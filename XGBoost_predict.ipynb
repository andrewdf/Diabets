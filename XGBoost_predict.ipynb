{
 "cells": [
  {
   "cell_type": "code",
   "execution_count": 43,
   "metadata": {
    "collapsed": true
   },
   "outputs": [],
   "source": [
    "import pandas as pd\n",
    "import numpy as np\n",
    "import xgboost as xgb\n",
    "import matplotlib.pyplot as plt\n",
    "import seaborn as sns\n",
    "from sklearn.model_selection import train_test_split, cross_val_score, GridSearchCV\n",
    "from sklearn.metrics import mean_squared_error\n",
    "from sklearn.preprocessing import RobustScaler\n",
    "from sklearn.preprocessing import StandardScaler\n",
    "from sklearn.preprocessing import PolynomialFeatures\n",
    "from sklearn.preprocessing import MinMaxScaler, normalize\n",
    "from sklearn.feature_selection import SelectKBest\n",
    "from sklearn.model_selection import KFold"
   ]
  },
  {
   "cell_type": "code",
   "execution_count": 44,
   "metadata": {
    "collapsed": true
   },
   "outputs": [],
   "source": [
    "# 这两行的作用是使每个cell的执行局结果可以显示多个\n",
    "from IPython.core.interactiveshell import InteractiveShell\n",
    "InteractiveShell.ast_node_interactivity = \"all\"\n",
    "\n",
    "# 下面这三行代码是为了画图可以显示中文\n",
    "from pylab import *\n",
    "mpl.rcParams['font.sans-serif'] = ['SimHei']\n",
    "mpl.rcParams['axes.unicode_minus'] = False"
   ]
  },
  {
   "cell_type": "code",
   "execution_count": 144,
   "metadata": {},
   "outputs": [],
   "source": [
    "train_data = pd.read_csv('data_train_B.csv', encoding = 'gbk')\n",
    "test_data = pd.read_csv('new_data_test_nodate.csv', encoding = 'gbk')\n",
    "Test_data = pd.read_csv('data_test_B.csv', encoding = 'gbk')\n",
    "y_test = pd.read_csv('d_answer_a_20180128.csv', names = ['血糖'], encoding = 'gbk')"
   ]
  },
  {
   "cell_type": "code",
   "execution_count": 145,
   "metadata": {
    "scrolled": true
   },
   "outputs": [
    {
     "data": {
      "text/html": [
       "<div>\n",
       "<style scoped>\n",
       "    .dataframe tbody tr th:only-of-type {\n",
       "        vertical-align: middle;\n",
       "    }\n",
       "\n",
       "    .dataframe tbody tr th {\n",
       "        vertical-align: top;\n",
       "    }\n",
       "\n",
       "    .dataframe thead th {\n",
       "        text-align: right;\n",
       "    }\n",
       "</style>\n",
       "<table border=\"1\" class=\"dataframe\">\n",
       "  <thead>\n",
       "    <tr style=\"text-align: right;\">\n",
       "      <th></th>\n",
       "      <th>性别</th>\n",
       "      <th>年龄</th>\n",
       "      <th>*天门冬氨酸氨基转换酶</th>\n",
       "      <th>*丙氨酸氨基转换酶</th>\n",
       "      <th>*碱性磷酸酶</th>\n",
       "      <th>*r-谷氨酰基转换酶</th>\n",
       "      <th>*总蛋白</th>\n",
       "      <th>白蛋白</th>\n",
       "      <th>*球蛋白</th>\n",
       "      <th>白球比例</th>\n",
       "      <th>...</th>\n",
       "      <th>血小板计数</th>\n",
       "      <th>血小板平均体积</th>\n",
       "      <th>血小板体积分布宽度</th>\n",
       "      <th>血小板比积</th>\n",
       "      <th>中性粒细胞%</th>\n",
       "      <th>淋巴细胞%</th>\n",
       "      <th>单核细胞%</th>\n",
       "      <th>嗜酸细胞%</th>\n",
       "      <th>嗜碱细胞%</th>\n",
       "      <th>血糖</th>\n",
       "    </tr>\n",
       "  </thead>\n",
       "  <tbody>\n",
       "    <tr>\n",
       "      <th>0</th>\n",
       "      <td>1</td>\n",
       "      <td>41</td>\n",
       "      <td>24.96</td>\n",
       "      <td>23.10</td>\n",
       "      <td>99.59</td>\n",
       "      <td>20.23</td>\n",
       "      <td>76.88</td>\n",
       "      <td>49.60</td>\n",
       "      <td>27.28</td>\n",
       "      <td>1.82</td>\n",
       "      <td>...</td>\n",
       "      <td>166.0</td>\n",
       "      <td>9.9</td>\n",
       "      <td>17.4</td>\n",
       "      <td>0.164</td>\n",
       "      <td>54.1</td>\n",
       "      <td>34.2</td>\n",
       "      <td>6.5</td>\n",
       "      <td>4.7</td>\n",
       "      <td>0.6</td>\n",
       "      <td>6.06</td>\n",
       "    </tr>\n",
       "    <tr>\n",
       "      <th>1</th>\n",
       "      <td>1</td>\n",
       "      <td>41</td>\n",
       "      <td>24.57</td>\n",
       "      <td>36.25</td>\n",
       "      <td>67.21</td>\n",
       "      <td>79.00</td>\n",
       "      <td>79.43</td>\n",
       "      <td>47.76</td>\n",
       "      <td>31.67</td>\n",
       "      <td>1.51</td>\n",
       "      <td>...</td>\n",
       "      <td>277.0</td>\n",
       "      <td>9.2</td>\n",
       "      <td>10.3</td>\n",
       "      <td>0.260</td>\n",
       "      <td>52.0</td>\n",
       "      <td>36.7</td>\n",
       "      <td>5.8</td>\n",
       "      <td>4.7</td>\n",
       "      <td>0.8</td>\n",
       "      <td>5.39</td>\n",
       "    </tr>\n",
       "    <tr>\n",
       "      <th>2</th>\n",
       "      <td>1</td>\n",
       "      <td>46</td>\n",
       "      <td>20.82</td>\n",
       "      <td>15.23</td>\n",
       "      <td>63.69</td>\n",
       "      <td>38.17</td>\n",
       "      <td>86.23</td>\n",
       "      <td>48.00</td>\n",
       "      <td>38.23</td>\n",
       "      <td>1.26</td>\n",
       "      <td>...</td>\n",
       "      <td>241.0</td>\n",
       "      <td>8.3</td>\n",
       "      <td>16.6</td>\n",
       "      <td>0.199</td>\n",
       "      <td>48.1</td>\n",
       "      <td>40.3</td>\n",
       "      <td>7.7</td>\n",
       "      <td>3.2</td>\n",
       "      <td>0.8</td>\n",
       "      <td>5.59</td>\n",
       "    </tr>\n",
       "    <tr>\n",
       "      <th>3</th>\n",
       "      <td>0</td>\n",
       "      <td>22</td>\n",
       "      <td>14.99</td>\n",
       "      <td>10.59</td>\n",
       "      <td>74.08</td>\n",
       "      <td>20.22</td>\n",
       "      <td>70.98</td>\n",
       "      <td>44.02</td>\n",
       "      <td>26.96</td>\n",
       "      <td>1.63</td>\n",
       "      <td>...</td>\n",
       "      <td>252.0</td>\n",
       "      <td>10.3</td>\n",
       "      <td>10.8</td>\n",
       "      <td>0.260</td>\n",
       "      <td>41.7</td>\n",
       "      <td>46.5</td>\n",
       "      <td>6.7</td>\n",
       "      <td>4.6</td>\n",
       "      <td>0.5</td>\n",
       "      <td>4.30</td>\n",
       "    </tr>\n",
       "    <tr>\n",
       "      <th>4</th>\n",
       "      <td>0</td>\n",
       "      <td>48</td>\n",
       "      <td>20.07</td>\n",
       "      <td>14.78</td>\n",
       "      <td>75.79</td>\n",
       "      <td>22.72</td>\n",
       "      <td>78.05</td>\n",
       "      <td>41.83</td>\n",
       "      <td>36.22</td>\n",
       "      <td>1.15</td>\n",
       "      <td>...</td>\n",
       "      <td>316.0</td>\n",
       "      <td>11.1</td>\n",
       "      <td>14.0</td>\n",
       "      <td>0.350</td>\n",
       "      <td>56.6</td>\n",
       "      <td>33.1</td>\n",
       "      <td>9.1</td>\n",
       "      <td>0.6</td>\n",
       "      <td>0.6</td>\n",
       "      <td>5.42</td>\n",
       "    </tr>\n",
       "  </tbody>\n",
       "</table>\n",
       "<p>5 rows × 35 columns</p>\n",
       "</div>"
      ],
      "text/plain": [
       "   性别  年龄  *天门冬氨酸氨基转换酶  *丙氨酸氨基转换酶  *碱性磷酸酶  *r-谷氨酰基转换酶   *总蛋白    白蛋白   *球蛋白  \\\n",
       "0   1  41        24.96      23.10   99.59       20.23  76.88  49.60  27.28   \n",
       "1   1  41        24.57      36.25   67.21       79.00  79.43  47.76  31.67   \n",
       "2   1  46        20.82      15.23   63.69       38.17  86.23  48.00  38.23   \n",
       "3   0  22        14.99      10.59   74.08       20.22  70.98  44.02  26.96   \n",
       "4   0  48        20.07      14.78   75.79       22.72  78.05  41.83  36.22   \n",
       "\n",
       "   白球比例  ...   血小板计数  血小板平均体积  血小板体积分布宽度  血小板比积  中性粒细胞%  淋巴细胞%  单核细胞%  嗜酸细胞%  \\\n",
       "0  1.82  ...   166.0      9.9       17.4  0.164    54.1   34.2    6.5    4.7   \n",
       "1  1.51  ...   277.0      9.2       10.3  0.260    52.0   36.7    5.8    4.7   \n",
       "2  1.26  ...   241.0      8.3       16.6  0.199    48.1   40.3    7.7    3.2   \n",
       "3  1.63  ...   252.0     10.3       10.8  0.260    41.7   46.5    6.7    4.6   \n",
       "4  1.15  ...   316.0     11.1       14.0  0.350    56.6   33.1    9.1    0.6   \n",
       "\n",
       "   嗜碱细胞%    血糖  \n",
       "0    0.6  6.06  \n",
       "1    0.8  5.39  \n",
       "2    0.8  5.59  \n",
       "3    0.5  4.30  \n",
       "4    0.6  5.42  \n",
       "\n",
       "[5 rows x 35 columns]"
      ]
     },
     "execution_count": 145,
     "metadata": {},
     "output_type": "execute_result"
    },
    {
     "data": {
      "text/html": [
       "<div>\n",
       "<style scoped>\n",
       "    .dataframe tbody tr th:only-of-type {\n",
       "        vertical-align: middle;\n",
       "    }\n",
       "\n",
       "    .dataframe tbody tr th {\n",
       "        vertical-align: top;\n",
       "    }\n",
       "\n",
       "    .dataframe thead th {\n",
       "        text-align: right;\n",
       "    }\n",
       "</style>\n",
       "<table border=\"1\" class=\"dataframe\">\n",
       "  <thead>\n",
       "    <tr style=\"text-align: right;\">\n",
       "      <th></th>\n",
       "      <th>性别</th>\n",
       "      <th>年龄</th>\n",
       "      <th>*天门冬氨酸氨基转换酶</th>\n",
       "      <th>*丙氨酸氨基转换酶</th>\n",
       "      <th>*碱性磷酸酶</th>\n",
       "      <th>*r-谷氨酰基转换酶</th>\n",
       "      <th>*总蛋白</th>\n",
       "      <th>白蛋白</th>\n",
       "      <th>*球蛋白</th>\n",
       "      <th>白球比例</th>\n",
       "      <th>...</th>\n",
       "      <th>红细胞体积分布宽度</th>\n",
       "      <th>血小板计数</th>\n",
       "      <th>血小板平均体积</th>\n",
       "      <th>血小板体积分布宽度</th>\n",
       "      <th>血小板比积</th>\n",
       "      <th>中性粒细胞%</th>\n",
       "      <th>淋巴细胞%</th>\n",
       "      <th>单核细胞%</th>\n",
       "      <th>嗜酸细胞%</th>\n",
       "      <th>嗜碱细胞%</th>\n",
       "    </tr>\n",
       "  </thead>\n",
       "  <tbody>\n",
       "    <tr>\n",
       "      <th>0</th>\n",
       "      <td>1</td>\n",
       "      <td>54</td>\n",
       "      <td>23.850000</td>\n",
       "      <td>26.690000</td>\n",
       "      <td>116.080000</td>\n",
       "      <td>34.360000</td>\n",
       "      <td>82.75000</td>\n",
       "      <td>46.030000</td>\n",
       "      <td>36.720000</td>\n",
       "      <td>1.250000</td>\n",
       "      <td>...</td>\n",
       "      <td>12.3</td>\n",
       "      <td>241</td>\n",
       "      <td>10.8</td>\n",
       "      <td>12.8</td>\n",
       "      <td>0.26</td>\n",
       "      <td>58.4</td>\n",
       "      <td>33.2</td>\n",
       "      <td>7.5</td>\n",
       "      <td>0.6</td>\n",
       "      <td>0.3</td>\n",
       "    </tr>\n",
       "    <tr>\n",
       "      <th>1</th>\n",
       "      <td>1</td>\n",
       "      <td>50</td>\n",
       "      <td>29.750000</td>\n",
       "      <td>34.980000</td>\n",
       "      <td>90.070000</td>\n",
       "      <td>111.430000</td>\n",
       "      <td>71.90000</td>\n",
       "      <td>44.090000</td>\n",
       "      <td>27.810000</td>\n",
       "      <td>1.590000</td>\n",
       "      <td>...</td>\n",
       "      <td>12.0</td>\n",
       "      <td>242</td>\n",
       "      <td>11.5</td>\n",
       "      <td>14.6</td>\n",
       "      <td>0.28</td>\n",
       "      <td>59.3</td>\n",
       "      <td>29.3</td>\n",
       "      <td>7.7</td>\n",
       "      <td>3.2</td>\n",
       "      <td>0.5</td>\n",
       "    </tr>\n",
       "    <tr>\n",
       "      <th>2</th>\n",
       "      <td>1</td>\n",
       "      <td>27</td>\n",
       "      <td>22.823494</td>\n",
       "      <td>25.860009</td>\n",
       "      <td>84.736496</td>\n",
       "      <td>28.027265</td>\n",
       "      <td>78.79106</td>\n",
       "      <td>45.911661</td>\n",
       "      <td>32.159592</td>\n",
       "      <td>1.325147</td>\n",
       "      <td>...</td>\n",
       "      <td>12.1</td>\n",
       "      <td>398</td>\n",
       "      <td>8.9</td>\n",
       "      <td>9.9</td>\n",
       "      <td>0.35</td>\n",
       "      <td>50.2</td>\n",
       "      <td>40.1</td>\n",
       "      <td>7.9</td>\n",
       "      <td>1.2</td>\n",
       "      <td>0.6</td>\n",
       "    </tr>\n",
       "    <tr>\n",
       "      <th>3</th>\n",
       "      <td>0</td>\n",
       "      <td>53</td>\n",
       "      <td>17.980000</td>\n",
       "      <td>16.630000</td>\n",
       "      <td>95.950000</td>\n",
       "      <td>23.410000</td>\n",
       "      <td>78.16000</td>\n",
       "      <td>45.440000</td>\n",
       "      <td>32.720000</td>\n",
       "      <td>1.390000</td>\n",
       "      <td>...</td>\n",
       "      <td>12.6</td>\n",
       "      <td>247</td>\n",
       "      <td>11.6</td>\n",
       "      <td>13.9</td>\n",
       "      <td>0.29</td>\n",
       "      <td>53.7</td>\n",
       "      <td>38.0</td>\n",
       "      <td>7.2</td>\n",
       "      <td>0.7</td>\n",
       "      <td>0.4</td>\n",
       "    </tr>\n",
       "    <tr>\n",
       "      <th>4</th>\n",
       "      <td>0</td>\n",
       "      <td>43</td>\n",
       "      <td>19.120000</td>\n",
       "      <td>19.800000</td>\n",
       "      <td>76.970000</td>\n",
       "      <td>15.700000</td>\n",
       "      <td>80.76000</td>\n",
       "      <td>46.900000</td>\n",
       "      <td>33.860000</td>\n",
       "      <td>1.390000</td>\n",
       "      <td>...</td>\n",
       "      <td>12.2</td>\n",
       "      <td>335</td>\n",
       "      <td>10.4</td>\n",
       "      <td>11.9</td>\n",
       "      <td>0.35</td>\n",
       "      <td>52.0</td>\n",
       "      <td>39.4</td>\n",
       "      <td>8.0</td>\n",
       "      <td>0.3</td>\n",
       "      <td>0.3</td>\n",
       "    </tr>\n",
       "  </tbody>\n",
       "</table>\n",
       "<p>5 rows × 34 columns</p>\n",
       "</div>"
      ],
      "text/plain": [
       "   性别  年龄  *天门冬氨酸氨基转换酶  *丙氨酸氨基转换酶      *碱性磷酸酶  *r-谷氨酰基转换酶      *总蛋白  \\\n",
       "0   1  54    23.850000  26.690000  116.080000   34.360000  82.75000   \n",
       "1   1  50    29.750000  34.980000   90.070000  111.430000  71.90000   \n",
       "2   1  27    22.823494  25.860009   84.736496   28.027265  78.79106   \n",
       "3   0  53    17.980000  16.630000   95.950000   23.410000  78.16000   \n",
       "4   0  43    19.120000  19.800000   76.970000   15.700000  80.76000   \n",
       "\n",
       "         白蛋白       *球蛋白      白球比例  ...    红细胞体积分布宽度  血小板计数  血小板平均体积  \\\n",
       "0  46.030000  36.720000  1.250000  ...         12.3    241     10.8   \n",
       "1  44.090000  27.810000  1.590000  ...         12.0    242     11.5   \n",
       "2  45.911661  32.159592  1.325147  ...         12.1    398      8.9   \n",
       "3  45.440000  32.720000  1.390000  ...         12.6    247     11.6   \n",
       "4  46.900000  33.860000  1.390000  ...         12.2    335     10.4   \n",
       "\n",
       "   血小板体积分布宽度  血小板比积  中性粒细胞%  淋巴细胞%  单核细胞%  嗜酸细胞%  嗜碱细胞%  \n",
       "0       12.8   0.26    58.4   33.2    7.5    0.6    0.3  \n",
       "1       14.6   0.28    59.3   29.3    7.7    3.2    0.5  \n",
       "2        9.9   0.35    50.2   40.1    7.9    1.2    0.6  \n",
       "3       13.9   0.29    53.7   38.0    7.2    0.7    0.4  \n",
       "4       11.9   0.35    52.0   39.4    8.0    0.3    0.3  \n",
       "\n",
       "[5 rows x 34 columns]"
      ]
     },
     "execution_count": 145,
     "metadata": {},
     "output_type": "execute_result"
    }
   ],
   "source": [
    "train_data.head()\n",
    "test_data.head()"
   ]
  },
  {
   "cell_type": "code",
   "execution_count": 146,
   "metadata": {
    "collapsed": true
   },
   "outputs": [],
   "source": [
    "X_train = train_data.loc[:, train_data.columns != '血糖']\n",
    "Y_train = train_data.loc[:, train_data.columns == '血糖']\n",
    "X = np.array(pd.concat([X_train, test_data]))\n",
    "y = np.array(pd.concat([Y_train, y_test]))"
   ]
  },
  {
   "cell_type": "code",
   "execution_count": 300,
   "metadata": {
    "collapsed": true,
    "scrolled": true
   },
   "outputs": [],
   "source": [
    "def model(X, y,X_test, folds = 10):\n",
    "    \n",
    "    X = np.array(X)\n",
    "    y = np.array(y)\n",
    "    X_test = np.array(X_test)\n",
    "    \n",
    "    test_pred = np.zeros((X_test.shape[0], folds))\n",
    "    \n",
    "    kfold = KFold(n_splits = folds, shuffle = True, random_state = np.random.seed(12306))   # 5折交叉验证\n",
    "\n",
    "    xgb_model = xgb.XGBRegressor(n_estimators = 2500, \n",
    "                                 max_depth = 8,\n",
    "                                 learning_rate = 0.05,\n",
    "                                 gamma = 30,\n",
    "                                 subsample = 0.9,\n",
    "                                 min_child_weight = 1,\n",
    "                                 colsample_bytree = 0.9)\n",
    "    \n",
    "    for k, (train_index, test_index) in enumerate(kfold.split(X, y)):\n",
    "\n",
    "        print(\"**************************************************************\")\n",
    "        print('第 {} 次训练...............'.format(k + 1))\n",
    "    \n",
    "        xgb_model.fit(X[train_index], y[train_index])\n",
    "        y_tr_pred = xgb_model.predict(X[train_index])\n",
    "        y_de_pred = xgb_model.predict(X[test_index])\n",
    "        y_test_pred = xgb_model.predict(X_test)\n",
    "        loss1 = mean_squared_error(y_tr_pred, y[train_index]) * 0.5\n",
    "        print(\"训练集误差：\" + str(loss1))\n",
    "        loss2 = mean_squared_error(y_de_pred, y[test_index]) * 0.5\n",
    "        print(\"验证集误差：\" + str(loss2))\n",
    "        print(\"**************************************************************\")\n",
    "        test_pred[:, k] = y_test_pred\n",
    "    return test_pred"
   ]
  },
  {
   "cell_type": "code",
   "execution_count": 301,
   "metadata": {
    "scrolled": true
   },
   "outputs": [
    {
     "name": "stdout",
     "output_type": "stream",
     "text": [
      "**************************************************************\n",
      "第 1 次训练...............\n",
      "训练集误差：0.346508986838\n",
      "验证集误差：0.840582684562\n",
      "**************************************************************\n",
      "**************************************************************\n",
      "第 2 次训练...............\n",
      "训练集误差：0.334592136637\n",
      "验证集误差：1.1290620475\n",
      "**************************************************************\n",
      "**************************************************************\n",
      "第 3 次训练...............\n",
      "训练集误差：0.350548837441\n",
      "验证集误差：0.782583892862\n",
      "**************************************************************\n",
      "**************************************************************\n",
      "第 4 次训练...............\n",
      "训练集误差：0.347490891695\n",
      "验证集误差：0.908484700832\n",
      "**************************************************************\n",
      "**************************************************************\n",
      "第 5 次训练...............\n",
      "训练集误差：0.352452872486\n",
      "验证集误差：0.860511019496\n",
      "**************************************************************\n"
     ]
    }
   ],
   "source": [
    "folds = 5\n",
    "test_pred = model(X_train, Y_train, test_data, folds = folds)"
   ]
  },
  {
   "cell_type": "code",
   "execution_count": 302,
   "metadata": {},
   "outputs": [
    {
     "name": "stdout",
     "output_type": "stream",
     "text": [
      "0.890009099992\n",
      "0.889205208574\n",
      "0.853174094901\n",
      "0.886083778288\n",
      "0.877005967793\n"
     ]
    },
    {
     "data": {
      "text/plain": [
       "0.8488747647917444"
      ]
     },
     "execution_count": 302,
     "metadata": {},
     "output_type": "execute_result"
    }
   ],
   "source": [
    "for i in range(folds):\n",
    "    loss = mean_squared_error(test_pred[:, i], y_test) * 0.5\n",
    "    print(loss)\n",
    "test_pred = pd.DataFrame(test_pred)\n",
    "loss2 = mean_squared_error(test_pred.median(axis = 1), y_test) * 0.5\n",
    "loss2"
   ]
  },
  {
   "cell_type": "code",
   "execution_count": 289,
   "metadata": {},
   "outputs": [
    {
     "name": "stdout",
     "output_type": "stream",
     "text": [
      "**************************************************************\n",
      "第 1 次训练...............\n",
      "训练集误差：0.352575678019\n",
      "验证集误差：0.839501443879\n",
      "**************************************************************\n",
      "**************************************************************\n",
      "第 2 次训练...............\n",
      "训练集误差：0.34409853346\n",
      "验证集误差：1.12744785647\n",
      "**************************************************************\n",
      "**************************************************************\n",
      "第 3 次训练...............\n",
      "训练集误差：0.358101794236\n",
      "验证集误差：0.790667053579\n",
      "**************************************************************\n",
      "**************************************************************\n",
      "第 4 次训练...............\n",
      "训练集误差：0.352579199467\n",
      "验证集误差：0.893576502098\n",
      "**************************************************************\n",
      "**************************************************************\n",
      "第 5 次训练...............\n",
      "训练集误差：0.355022425026\n",
      "验证集误差：0.84284275217\n",
      "**************************************************************\n"
     ]
    }
   ],
   "source": [
    "folds = 5\n",
    "Test_pred_last = model(X_train, Y_train, Test_data, folds = folds)\n",
    "Test_pred_last = pd.DataFrame(Test_pred_last)\n",
    "Y_last = np.array(Test_pred_last.median(axis = 1))\n",
    "np.savetxt('BLast_result.csv', Y_last, fmt = '%10.3f')"
   ]
  },
  {
   "cell_type": "code",
   "execution_count": 204,
   "metadata": {
    "collapsed": true
   },
   "outputs": [],
   "source": [
    "# 将原来的训练集分为训练集和交叉验证集\n",
    "from sklearn.preprocessing import PolynomialFeatures\n",
    "def data_scale_PFS(X, y, X_test, scale = 'NoScale', poly_features = False):\n",
    "    \"\"\"\n",
    "    参数：\n",
    "    size是划分训练集和验证集的比例\n",
    "    scale是归一化方式\n",
    "    返回：\n",
    "    \n",
    "    \n",
    "    \"\"\"        \n",
    "    if poly_features == True:\n",
    "        poly = PolynomialFeatures(2, interaction_only = True)     # 先生成多项式特征，然后决定是否进行归一化       \n",
    "        X = poly.fit_transform(X)\n",
    "        X_test = poly.fit_transform(X_test)\n",
    "    if scale == 'Standard':    # 对数据进行均值归一化\n",
    "        scaler = StandardScaler().fit(X)\n",
    "        X = scaler.transform(X)\n",
    "        X_test = scaler.transform(X_test)\n",
    "        \n",
    "    if scale == 'Robust':     # 对数据进行robust_scale\n",
    "        robust_scaler = RobustScaler().fit(X)\n",
    "        X = robust_scaler.transform(X)\n",
    "        X_test = robust_scaler.transform(X_test)\n",
    "        \n",
    "    if scale == 'NoScale':        # 不进行归一化\n",
    "        X = X\n",
    "        X_test = X_test\n",
    "        \n",
    "    # 将原来训练集中的20%的样本分为交叉验证集\n",
    "    state = np.random.seed(123)\n",
    "    #x_train, x_dev, label_train, label_dev = train_y_split(X, y, y_size = size, random_state = state) \n",
    "        \n",
    "    #print('训练集的样本个数是：' + str(x_train.shape[0]))\n",
    "    #print('训练集的形状是：' + str(x_train.shape))\n",
    "    #print('交叉验证集的样本个数是：' + str(x_dev.shape[0]))\n",
    "    #print('所有训练集的样本个数是：' + str(X.shape[0]))\n",
    "    #print('测试集的样本个数是：' + str(y.shape[0]))\n",
    "    #return x_train, x_dev, label_train, label_dev, X, y, X_test\n",
    "    return X, y , X_test              #, X_test"
   ]
  },
  {
   "cell_type": "markdown",
   "metadata": {},
   "source": [
    "对原始数据不进行归一化，然后用多项式特征生成新的特征"
   ]
  },
  {
   "cell_type": "code",
   "execution_count": 206,
   "metadata": {},
   "outputs": [
    {
     "name": "stdout",
     "output_type": "stream",
     "text": [
      "**************************************************************\n",
      "第 1 次训练...............\n",
      "训练集误差：0.344878695879\n",
      "验证集误差：0.764711461854\n",
      "**************************************************************\n",
      "**************************************************************\n",
      "第 2 次训练...............\n",
      "训练集误差：0.364918220857\n",
      "验证集误差：0.679847777879\n",
      "**************************************************************\n",
      "**************************************************************\n",
      "第 3 次训练...............\n",
      "训练集误差：0.337402066025\n",
      "验证集误差：0.9843818196\n",
      "**************************************************************\n",
      "**************************************************************\n",
      "第 4 次训练...............\n",
      "训练集误差：0.337060138443\n",
      "验证集误差：1.09460692261\n",
      "**************************************************************\n",
      "**************************************************************\n",
      "第 5 次训练...............\n",
      "训练集误差：0.335992204786\n",
      "验证集误差：0.946966788577\n",
      "**************************************************************\n"
     ]
    }
   ],
   "source": [
    "X_s, y_s, X_test = data_scale_PFS( X, y,test_data, scale = 'NoScale', poly_features = False)    \n",
    "test_pred1 = model(X, y, X_test, folds = 5)"
   ]
  },
  {
   "cell_type": "code",
   "execution_count": 159,
   "metadata": {},
   "outputs": [
    {
     "name": "stdout",
     "output_type": "stream",
     "text": [
      "0.856395653796\n",
      "0.877352509519\n",
      "0.85896700236\n",
      "0.884904489029\n"
     ]
    },
    {
     "data": {
      "text/plain": [
       "0.84658194174912837"
      ]
     },
     "execution_count": 159,
     "metadata": {},
     "output_type": "execute_result"
    }
   ],
   "source": [
    "for i in range(4):\n",
    "    loss = mean_squared_error(test_pred1[:, i], y_test) * 0.5\n",
    "    print(loss)\n",
    "loss2 = mean_squared_error(test_pred1.mean(axis = 1), y_test) * 0.5\n",
    "loss2"
   ]
  },
  {
   "cell_type": "code",
   "execution_count": 41,
   "metadata": {
    "scrolled": true
   },
   "outputs": [
    {
     "name": "stdout",
     "output_type": "stream",
     "text": [
      "**************************************************************\n",
      "第 1 次训练...............\n",
      "训练集误差：0.401663248228\n",
      "验证集误差：0.762833382959\n",
      "**************************************************************\n",
      "**************************************************************\n",
      "第 2 次训练...............\n",
      "训练集误差：0.436564930708\n",
      "验证集误差：0.666825981459\n",
      "**************************************************************\n",
      "**************************************************************\n",
      "第 3 次训练...............\n",
      "训练集误差：0.403503942023\n",
      "验证集误差：0.985086950535\n",
      "**************************************************************\n",
      "**************************************************************\n",
      "第 4 次训练...............\n",
      "训练集误差：0.404019323392\n",
      "验证集误差：1.08891766084\n",
      "**************************************************************\n",
      "**************************************************************\n",
      "第 5 次训练...............\n",
      "训练集误差：0.402103337341\n",
      "验证集误差：0.950420713567\n",
      "**************************************************************\n"
     ]
    }
   ],
   "source": [
    "X_r, y_r, X_test = data_scale_PFS( X, y,test_data, scale = 'Robust', poly_features = False) \n",
    "test_pred = model(X_r, y_r, X_test)"
   ]
  },
  {
   "cell_type": "code",
   "execution_count": 42,
   "metadata": {},
   "outputs": [
    {
     "name": "stdout",
     "output_type": "stream",
     "text": [
      "0.509595763525\n",
      "0.467128945734\n",
      "0.470741127875\n",
      "0.558596177135\n",
      "0.492564954007\n"
     ]
    },
    {
     "data": {
      "text/plain": [
       "0.47009830412817444"
      ]
     },
     "execution_count": 42,
     "metadata": {},
     "output_type": "execute_result"
    }
   ],
   "source": [
    "for i in range(5):\n",
    "    loss = mean_squared_error(test_pred[:, i], y_test) * 0.5\n",
    "    print(loss)\n",
    "loss2 = mean_squared_error(test_pred.mean(axis = 1), y_test) * 0.5\n",
    "loss2"
   ]
  },
  {
   "cell_type": "markdown",
   "metadata": {},
   "source": [
    "## XGBoost调参：\n",
    "XGBoost中通常有两种方法控制过拟合：\n",
    "- 直接控制模型的复杂度：包括max_depth, min_child_weight, gamma\n",
    "- 增加随机性，使训练的模型更鲁棒：包括subsample, colsample, colsmaple_bytree，也可以减少步长eta，如果减少eta，请记得将参数num_round的值调大 \n",
    "对于不均衡数据集：\n",
    "有两种方法可以提升模型效果：\n",
    "- 如果仅仅是用AUC评价模型预测结果：通过scale_pos_weight可以平衡正负样本权重，用AUC作为评价指标\n",
    "- 如果关注预测的正确率：这种情况下，不能再均衡（re-balance）数据集，通过设置参数max_delta_step为一个较小的数可以帮助模型收敛"
   ]
  },
  {
   "cell_type": "markdown",
   "metadata": {},
   "source": [
    "## 用XGBoost训练原始数据"
   ]
  },
  {
   "cell_type": "code",
   "execution_count": null,
   "metadata": {
    "collapsed": true
   },
   "outputs": [],
   "source": [
    "raw_train = pd.read_csv('d_train_20180102.csv', encoding = 'gbk')\n",
    "raw_test = pd.read_csv('d_test_A_20180102.csv', encoding = 'gbk')"
   ]
  },
  {
   "cell_type": "code",
   "execution_count": null,
   "metadata": {
    "collapsed": true
   },
   "outputs": [],
   "source": [
    "raw_train.fillna(raw_train.median(), inplace = True)\n",
    "raw_test.fillna(raw_test.median(), inplace = True)"
   ]
  },
  {
   "cell_type": "code",
   "execution_count": null,
   "metadata": {
    "collapsed": true,
    "scrolled": true
   },
   "outputs": [],
   "source": [
    "raw_train.isnull().any()\n",
    "raw_train.isnull().any()"
   ]
  },
  {
   "cell_type": "code",
   "execution_count": null,
   "metadata": {
    "collapsed": true
   },
   "outputs": [],
   "source": [
    "raw_train.loc[572, '性别'] = '女'\n",
    "raw_train.loc[raw_train['性别']== \"男\", '性别'] = 1\n",
    "raw_train.loc[raw_train['性别']== '女', '性别'] = 0\n",
    "raw_test.loc[raw_test['性别']=='男', '性别'] = 1\n",
    "raw_test.loc[raw_test['性别']=='女', '性别'] = 0\n",
    "raw_train = raw_train.drop(columns = ['id','体检日期'])\n",
    "raw_test = raw_test.drop(columns = ['id','体检日期'])"
   ]
  },
  {
   "cell_type": "code",
   "execution_count": null,
   "metadata": {
    "collapsed": true,
    "scrolled": true
   },
   "outputs": [],
   "source": [
    "Y = raw_train['血糖']\n",
    "X = raw_train.loc[:, raw_train.columns != '血糖']\n",
    "X_te = raw_test\n",
    "\n",
    "poly = PolynomialFeatures(2, interaction_only=True)     # 先生成多项式特征\n",
    "X = poly.fit_transform(X)\n",
    "X_te = poly.fit_transform(X_te)\n",
    "\n",
    "X_t, X_d, Y_t, Y_d = train_test_split(X, Y, test_size = 0.2, random_state = 123456) "
   ]
  },
  {
   "cell_type": "code",
   "execution_count": null,
   "metadata": {
    "collapsed": true
   },
   "outputs": [],
   "source": [
    "xgb_model = xgb.XGBRegressor(n_estimators = 1000, \n",
    "                             max_depth = 6,\n",
    "                             learning_rate = 0.01,\n",
    "                             subsample = 0.8,\n",
    "                             colsample_bytree = 0.7)\n",
    "xgb_model.fit(X_t, Y_t.values.ravel())\n",
    "y_tr = xgb_model.predict(X_t)\n",
    "y_de = xgb_model.predict(X_d)\n",
    "loss1 = mean_squared_error(y_tr, Y_t)\n",
    "loss1\n",
    "loss2 = mean_squared_error(y_de, Y_d)\n",
    "loss2"
   ]
  },
  {
   "cell_type": "code",
   "execution_count": null,
   "metadata": {
    "collapsed": true
   },
   "outputs": [],
   "source": []
  },
  {
   "cell_type": "code",
   "execution_count": null,
   "metadata": {
    "collapsed": true
   },
   "outputs": [],
   "source": [
    "new_train = pd.read_csv('imputed_data_train.csv', encoding = 'gbk')\n",
    "new_test = pd.read_csv('imputed_data_test.csv', encoding = 'gbk')"
   ]
  },
  {
   "cell_type": "code",
   "execution_count": null,
   "metadata": {
    "collapsed": true
   },
   "outputs": [],
   "source": [
    "new_train.head()"
   ]
  },
  {
   "cell_type": "code",
   "execution_count": null,
   "metadata": {
    "collapsed": true
   },
   "outputs": [],
   "source": [
    "Y_ = new_train['血糖']\n",
    "X_ = new_train.loc[:, new_train.columns != '血糖']\n",
    "X_nte = new_test\n",
    "state = np.random.seed(123)\n",
    "poly = PolynomialFeatures(2, interaction_only=True)     # 先生成多项式特征\n",
    "X_ = poly.fit_transform(X_)\n",
    "X_nte = poly.fit_transform(X_nte)\n",
    "X_nt, X_nd, Y_nt, Y_nd = train_test_split(X_, Y_, test_size = 0.2, random_state = state) "
   ]
  },
  {
   "cell_type": "code",
   "execution_count": null,
   "metadata": {
    "collapsed": true
   },
   "outputs": [],
   "source": [
    "xgb_model = xgb.XGBRegressor(n_estimators = 1000, \n",
    "                             max_depth = 6,\n",
    "                             learning_rate = 0.01,\n",
    "                             subsample = 0.8,\n",
    "                             colsample_bytree = 0.7)\n",
    "xgb_model.fit(X_nt, Y_nt.values.ravel())\n",
    "y_ntr = xgb_model.predict(X_nt)\n",
    "y_nde = xgb_model.predict(X_nd)\n",
    "loss1 = mean_squared_error(y_ntr, Y_nt)\n",
    "loss1\n",
    "loss2 = mean_squared_error(y_nde, Y_nd)\n",
    "loss2"
   ]
  },
  {
   "cell_type": "code",
   "execution_count": null,
   "metadata": {
    "collapsed": true
   },
   "outputs": [],
   "source": []
  }
 ],
 "metadata": {
  "kernelspec": {
   "display_name": "Python 3",
   "language": "python",
   "name": "python3"
  },
  "language_info": {
   "codemirror_mode": {
    "name": "ipython",
    "version": 3
   },
   "file_extension": ".py",
   "mimetype": "text/x-python",
   "name": "python",
   "nbconvert_exporter": "python",
   "pygments_lexer": "ipython3",
   "version": "3.6.2"
  }
 },
 "nbformat": 4,
 "nbformat_minor": 2
}
