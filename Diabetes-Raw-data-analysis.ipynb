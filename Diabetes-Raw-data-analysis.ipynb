{
 "cells": [
  {
   "cell_type": "markdown",
   "metadata": {},
   "source": [
    "## 载入数据，简单分析"
   ]
  },
  {
   "cell_type": "code",
   "execution_count": 1,
   "metadata": {
    "collapsed": true
   },
   "outputs": [],
   "source": [
    "# 这两行的作用是使每个cell的执行局结果可以显示多个\n",
    "from IPython.core.interactiveshell import InteractiveShell\n",
    "InteractiveShell.ast_node_interactivity = \"all\"\n",
    "\n",
    "# 下面这三行代码是为了画图可以显示中文\n",
    "from pylab import *\n",
    "mpl.rcParams['font.sans-serif'] = ['SimHei']\n",
    "mpl.rcParams['axes.unicode_minus'] = False"
   ]
  },
  {
   "cell_type": "code",
   "execution_count": 2,
   "metadata": {},
   "outputs": [
    {
     "name": "stderr",
     "output_type": "stream",
     "text": [
      "C:\\Users\\Tengfei\\Anaconda3\\lib\\site-packages\\sklearn\\cross_validation.py:41: DeprecationWarning: This module was deprecated in version 0.18 in favor of the model_selection module into which all the refactored classes and functions are moved. Also note that the interface of the new CV iterators are different from that of this module. This module will be removed in 0.20.\n",
      "  \"This module will be removed in 0.20.\", DeprecationWarning)\n"
     ]
    }
   ],
   "source": [
    "import pandas as pd \n",
    "import numpy as np\n",
    "import time \n",
    "import datetime\n",
    "from dateutil.parser import parse\n",
    "import matplotlib.pyplot as plt\n",
    "import xgboost as xgb\n",
    "import seaborn as sns\n",
    "from sklearn.preprocessing import robust_scale\n",
    "from sklearn.model_selection import train_test_split\n",
    "from sklearn.metrics import mean_squared_error\n",
    "from sklearn.model_selection import cross_val_score\n",
    "from sklearn.cross_validation import KFold\n",
    "%matplotlib inline\n",
    "#plt.rcParams['figure.figsize'] = (12.0, 6.0) #set default size of plots"
   ]
  },
  {
   "cell_type": "code",
   "execution_count": 6,
   "metadata": {
    "scrolled": false
   },
   "outputs": [
    {
     "name": "stdout",
     "output_type": "stream",
     "text": [
      "训练集的形状：(5642, 42)\n",
      "测试集的形状：(1000, 41)\n"
     ]
    }
   ],
   "source": [
    "# -*- coding: utf-8 -*-\n",
    "data_train = pd.read_csv('d_train_20180102.csv',encoding = 'gbk')     # 在读入文件时，如果有中文，则会报错，添加参数encoding = 'gbk'即可\n",
    "data_test = pd.read_csv('d_test_A_20180102.csv',encoding = 'gbk')     \n",
    "print(\"训练集的形状：\" + format(data_train.shape))\n",
    "print(\"测试集的形状：\" + format(data_test.shape))"
   ]
  },
  {
   "cell_type": "code",
   "execution_count": 7,
   "metadata": {
    "scrolled": true
   },
   "outputs": [
    {
     "data": {
      "text/html": [
       "<div>\n",
       "<style scoped>\n",
       "    .dataframe tbody tr th:only-of-type {\n",
       "        vertical-align: middle;\n",
       "    }\n",
       "\n",
       "    .dataframe tbody tr th {\n",
       "        vertical-align: top;\n",
       "    }\n",
       "\n",
       "    .dataframe thead th {\n",
       "        text-align: right;\n",
       "    }\n",
       "</style>\n",
       "<table border=\"1\" class=\"dataframe\">\n",
       "  <thead>\n",
       "    <tr style=\"text-align: right;\">\n",
       "      <th></th>\n",
       "      <th>id</th>\n",
       "      <th>性别</th>\n",
       "      <th>年龄</th>\n",
       "      <th>体检日期</th>\n",
       "      <th>*天门冬氨酸氨基转换酶</th>\n",
       "      <th>*丙氨酸氨基转换酶</th>\n",
       "      <th>*碱性磷酸酶</th>\n",
       "      <th>*r-谷氨酰基转换酶</th>\n",
       "      <th>*总蛋白</th>\n",
       "      <th>白蛋白</th>\n",
       "      <th>...</th>\n",
       "      <th>血小板计数</th>\n",
       "      <th>血小板平均体积</th>\n",
       "      <th>血小板体积分布宽度</th>\n",
       "      <th>血小板比积</th>\n",
       "      <th>中性粒细胞%</th>\n",
       "      <th>淋巴细胞%</th>\n",
       "      <th>单核细胞%</th>\n",
       "      <th>嗜酸细胞%</th>\n",
       "      <th>嗜碱细胞%</th>\n",
       "      <th>血糖</th>\n",
       "    </tr>\n",
       "  </thead>\n",
       "  <tbody>\n",
       "    <tr>\n",
       "      <th>0</th>\n",
       "      <td>1</td>\n",
       "      <td>男</td>\n",
       "      <td>41</td>\n",
       "      <td>12/10/2017</td>\n",
       "      <td>24.96</td>\n",
       "      <td>23.10</td>\n",
       "      <td>99.59</td>\n",
       "      <td>20.23</td>\n",
       "      <td>76.88</td>\n",
       "      <td>49.60</td>\n",
       "      <td>...</td>\n",
       "      <td>166.0</td>\n",
       "      <td>9.9</td>\n",
       "      <td>17.4</td>\n",
       "      <td>0.164</td>\n",
       "      <td>54.1</td>\n",
       "      <td>34.2</td>\n",
       "      <td>6.5</td>\n",
       "      <td>4.7</td>\n",
       "      <td>0.6</td>\n",
       "      <td>6.06</td>\n",
       "    </tr>\n",
       "    <tr>\n",
       "      <th>1</th>\n",
       "      <td>2</td>\n",
       "      <td>男</td>\n",
       "      <td>41</td>\n",
       "      <td>19/10/2017</td>\n",
       "      <td>24.57</td>\n",
       "      <td>36.25</td>\n",
       "      <td>67.21</td>\n",
       "      <td>79.00</td>\n",
       "      <td>79.43</td>\n",
       "      <td>47.76</td>\n",
       "      <td>...</td>\n",
       "      <td>277.0</td>\n",
       "      <td>9.2</td>\n",
       "      <td>10.3</td>\n",
       "      <td>0.260</td>\n",
       "      <td>52.0</td>\n",
       "      <td>36.7</td>\n",
       "      <td>5.8</td>\n",
       "      <td>4.7</td>\n",
       "      <td>0.8</td>\n",
       "      <td>5.39</td>\n",
       "    </tr>\n",
       "    <tr>\n",
       "      <th>2</th>\n",
       "      <td>3</td>\n",
       "      <td>男</td>\n",
       "      <td>46</td>\n",
       "      <td>26/10/2017</td>\n",
       "      <td>20.82</td>\n",
       "      <td>15.23</td>\n",
       "      <td>63.69</td>\n",
       "      <td>38.17</td>\n",
       "      <td>86.23</td>\n",
       "      <td>48.00</td>\n",
       "      <td>...</td>\n",
       "      <td>241.0</td>\n",
       "      <td>8.3</td>\n",
       "      <td>16.6</td>\n",
       "      <td>0.199</td>\n",
       "      <td>48.1</td>\n",
       "      <td>40.3</td>\n",
       "      <td>7.7</td>\n",
       "      <td>3.2</td>\n",
       "      <td>0.8</td>\n",
       "      <td>5.59</td>\n",
       "    </tr>\n",
       "    <tr>\n",
       "      <th>3</th>\n",
       "      <td>4</td>\n",
       "      <td>女</td>\n",
       "      <td>22</td>\n",
       "      <td>25/10/2017</td>\n",
       "      <td>14.99</td>\n",
       "      <td>10.59</td>\n",
       "      <td>74.08</td>\n",
       "      <td>20.22</td>\n",
       "      <td>70.98</td>\n",
       "      <td>44.02</td>\n",
       "      <td>...</td>\n",
       "      <td>252.0</td>\n",
       "      <td>10.3</td>\n",
       "      <td>10.8</td>\n",
       "      <td>0.260</td>\n",
       "      <td>41.7</td>\n",
       "      <td>46.5</td>\n",
       "      <td>6.7</td>\n",
       "      <td>4.6</td>\n",
       "      <td>0.5</td>\n",
       "      <td>4.30</td>\n",
       "    </tr>\n",
       "    <tr>\n",
       "      <th>4</th>\n",
       "      <td>5</td>\n",
       "      <td>女</td>\n",
       "      <td>48</td>\n",
       "      <td>26/10/2017</td>\n",
       "      <td>20.07</td>\n",
       "      <td>14.78</td>\n",
       "      <td>75.79</td>\n",
       "      <td>22.72</td>\n",
       "      <td>78.05</td>\n",
       "      <td>41.83</td>\n",
       "      <td>...</td>\n",
       "      <td>316.0</td>\n",
       "      <td>11.1</td>\n",
       "      <td>14.0</td>\n",
       "      <td>0.350</td>\n",
       "      <td>56.6</td>\n",
       "      <td>33.1</td>\n",
       "      <td>9.1</td>\n",
       "      <td>0.6</td>\n",
       "      <td>0.6</td>\n",
       "      <td>5.42</td>\n",
       "    </tr>\n",
       "  </tbody>\n",
       "</table>\n",
       "<p>5 rows × 42 columns</p>\n",
       "</div>"
      ],
      "text/plain": [
       "   id 性别  年龄        体检日期  *天门冬氨酸氨基转换酶  *丙氨酸氨基转换酶  *碱性磷酸酶  *r-谷氨酰基转换酶   *总蛋白  \\\n",
       "0   1  男  41  12/10/2017        24.96      23.10   99.59       20.23  76.88   \n",
       "1   2  男  41  19/10/2017        24.57      36.25   67.21       79.00  79.43   \n",
       "2   3  男  46  26/10/2017        20.82      15.23   63.69       38.17  86.23   \n",
       "3   4  女  22  25/10/2017        14.99      10.59   74.08       20.22  70.98   \n",
       "4   5  女  48  26/10/2017        20.07      14.78   75.79       22.72  78.05   \n",
       "\n",
       "     白蛋白  ...   血小板计数  血小板平均体积  血小板体积分布宽度  血小板比积  中性粒细胞%  淋巴细胞%  单核细胞%  嗜酸细胞%  \\\n",
       "0  49.60  ...   166.0      9.9       17.4  0.164    54.1   34.2    6.5    4.7   \n",
       "1  47.76  ...   277.0      9.2       10.3  0.260    52.0   36.7    5.8    4.7   \n",
       "2  48.00  ...   241.0      8.3       16.6  0.199    48.1   40.3    7.7    3.2   \n",
       "3  44.02  ...   252.0     10.3       10.8  0.260    41.7   46.5    6.7    4.6   \n",
       "4  41.83  ...   316.0     11.1       14.0  0.350    56.6   33.1    9.1    0.6   \n",
       "\n",
       "   嗜碱细胞%    血糖  \n",
       "0    0.6  6.06  \n",
       "1    0.8  5.39  \n",
       "2    0.8  5.59  \n",
       "3    0.5  4.30  \n",
       "4    0.6  5.42  \n",
       "\n",
       "[5 rows x 42 columns]"
      ]
     },
     "execution_count": 7,
     "metadata": {},
     "output_type": "execute_result"
    },
    {
     "data": {
      "text/html": [
       "<div>\n",
       "<style scoped>\n",
       "    .dataframe tbody tr th:only-of-type {\n",
       "        vertical-align: middle;\n",
       "    }\n",
       "\n",
       "    .dataframe tbody tr th {\n",
       "        vertical-align: top;\n",
       "    }\n",
       "\n",
       "    .dataframe thead th {\n",
       "        text-align: right;\n",
       "    }\n",
       "</style>\n",
       "<table border=\"1\" class=\"dataframe\">\n",
       "  <thead>\n",
       "    <tr style=\"text-align: right;\">\n",
       "      <th></th>\n",
       "      <th>id</th>\n",
       "      <th>性别</th>\n",
       "      <th>年龄</th>\n",
       "      <th>体检日期</th>\n",
       "      <th>*天门冬氨酸氨基转换酶</th>\n",
       "      <th>*丙氨酸氨基转换酶</th>\n",
       "      <th>*碱性磷酸酶</th>\n",
       "      <th>*r-谷氨酰基转换酶</th>\n",
       "      <th>*总蛋白</th>\n",
       "      <th>白蛋白</th>\n",
       "      <th>...</th>\n",
       "      <th>红细胞体积分布宽度</th>\n",
       "      <th>血小板计数</th>\n",
       "      <th>血小板平均体积</th>\n",
       "      <th>血小板体积分布宽度</th>\n",
       "      <th>血小板比积</th>\n",
       "      <th>中性粒细胞%</th>\n",
       "      <th>淋巴细胞%</th>\n",
       "      <th>单核细胞%</th>\n",
       "      <th>嗜酸细胞%</th>\n",
       "      <th>嗜碱细胞%</th>\n",
       "    </tr>\n",
       "  </thead>\n",
       "  <tbody>\n",
       "    <tr>\n",
       "      <th>0</th>\n",
       "      <td>5733</td>\n",
       "      <td>男</td>\n",
       "      <td>54</td>\n",
       "      <td>10/10/2017</td>\n",
       "      <td>23.85</td>\n",
       "      <td>26.69</td>\n",
       "      <td>116.08</td>\n",
       "      <td>34.36</td>\n",
       "      <td>82.75</td>\n",
       "      <td>46.03</td>\n",
       "      <td>...</td>\n",
       "      <td>12.3</td>\n",
       "      <td>241.0</td>\n",
       "      <td>10.8</td>\n",
       "      <td>12.8</td>\n",
       "      <td>0.26</td>\n",
       "      <td>58.4</td>\n",
       "      <td>33.2</td>\n",
       "      <td>7.5</td>\n",
       "      <td>0.6</td>\n",
       "      <td>0.3</td>\n",
       "    </tr>\n",
       "    <tr>\n",
       "      <th>1</th>\n",
       "      <td>5734</td>\n",
       "      <td>男</td>\n",
       "      <td>50</td>\n",
       "      <td>10/10/2017</td>\n",
       "      <td>29.75</td>\n",
       "      <td>34.98</td>\n",
       "      <td>90.07</td>\n",
       "      <td>111.43</td>\n",
       "      <td>71.90</td>\n",
       "      <td>44.09</td>\n",
       "      <td>...</td>\n",
       "      <td>12.0</td>\n",
       "      <td>242.0</td>\n",
       "      <td>11.5</td>\n",
       "      <td>14.6</td>\n",
       "      <td>0.28</td>\n",
       "      <td>59.3</td>\n",
       "      <td>29.3</td>\n",
       "      <td>7.7</td>\n",
       "      <td>3.2</td>\n",
       "      <td>0.5</td>\n",
       "    </tr>\n",
       "    <tr>\n",
       "      <th>2</th>\n",
       "      <td>5735</td>\n",
       "      <td>男</td>\n",
       "      <td>27</td>\n",
       "      <td>10/10/2017</td>\n",
       "      <td>NaN</td>\n",
       "      <td>NaN</td>\n",
       "      <td>NaN</td>\n",
       "      <td>NaN</td>\n",
       "      <td>NaN</td>\n",
       "      <td>NaN</td>\n",
       "      <td>...</td>\n",
       "      <td>12.1</td>\n",
       "      <td>398.0</td>\n",
       "      <td>8.9</td>\n",
       "      <td>9.9</td>\n",
       "      <td>0.35</td>\n",
       "      <td>50.2</td>\n",
       "      <td>40.1</td>\n",
       "      <td>7.9</td>\n",
       "      <td>1.2</td>\n",
       "      <td>0.6</td>\n",
       "    </tr>\n",
       "    <tr>\n",
       "      <th>3</th>\n",
       "      <td>5736</td>\n",
       "      <td>女</td>\n",
       "      <td>53</td>\n",
       "      <td>10/10/2017</td>\n",
       "      <td>17.98</td>\n",
       "      <td>16.63</td>\n",
       "      <td>95.95</td>\n",
       "      <td>23.41</td>\n",
       "      <td>78.16</td>\n",
       "      <td>45.44</td>\n",
       "      <td>...</td>\n",
       "      <td>12.6</td>\n",
       "      <td>247.0</td>\n",
       "      <td>11.6</td>\n",
       "      <td>13.9</td>\n",
       "      <td>0.29</td>\n",
       "      <td>53.7</td>\n",
       "      <td>38.0</td>\n",
       "      <td>7.2</td>\n",
       "      <td>0.7</td>\n",
       "      <td>0.4</td>\n",
       "    </tr>\n",
       "    <tr>\n",
       "      <th>4</th>\n",
       "      <td>5739</td>\n",
       "      <td>女</td>\n",
       "      <td>43</td>\n",
       "      <td>10/10/2017</td>\n",
       "      <td>19.12</td>\n",
       "      <td>19.80</td>\n",
       "      <td>76.97</td>\n",
       "      <td>15.70</td>\n",
       "      <td>80.76</td>\n",
       "      <td>46.90</td>\n",
       "      <td>...</td>\n",
       "      <td>12.2</td>\n",
       "      <td>335.0</td>\n",
       "      <td>10.4</td>\n",
       "      <td>11.9</td>\n",
       "      <td>0.35</td>\n",
       "      <td>52.0</td>\n",
       "      <td>39.4</td>\n",
       "      <td>8.0</td>\n",
       "      <td>0.3</td>\n",
       "      <td>0.3</td>\n",
       "    </tr>\n",
       "  </tbody>\n",
       "</table>\n",
       "<p>5 rows × 41 columns</p>\n",
       "</div>"
      ],
      "text/plain": [
       "     id 性别  年龄        体检日期  *天门冬氨酸氨基转换酶  *丙氨酸氨基转换酶  *碱性磷酸酶  *r-谷氨酰基转换酶   *总蛋白  \\\n",
       "0  5733  男  54  10/10/2017        23.85      26.69  116.08       34.36  82.75   \n",
       "1  5734  男  50  10/10/2017        29.75      34.98   90.07      111.43  71.90   \n",
       "2  5735  男  27  10/10/2017          NaN        NaN     NaN         NaN    NaN   \n",
       "3  5736  女  53  10/10/2017        17.98      16.63   95.95       23.41  78.16   \n",
       "4  5739  女  43  10/10/2017        19.12      19.80   76.97       15.70  80.76   \n",
       "\n",
       "     白蛋白  ...    红细胞体积分布宽度  血小板计数  血小板平均体积  血小板体积分布宽度  血小板比积  中性粒细胞%  淋巴细胞%  \\\n",
       "0  46.03  ...         12.3  241.0     10.8       12.8   0.26    58.4   33.2   \n",
       "1  44.09  ...         12.0  242.0     11.5       14.6   0.28    59.3   29.3   \n",
       "2    NaN  ...         12.1  398.0      8.9        9.9   0.35    50.2   40.1   \n",
       "3  45.44  ...         12.6  247.0     11.6       13.9   0.29    53.7   38.0   \n",
       "4  46.90  ...         12.2  335.0     10.4       11.9   0.35    52.0   39.4   \n",
       "\n",
       "   单核细胞%  嗜酸细胞%  嗜碱细胞%  \n",
       "0    7.5    0.6    0.3  \n",
       "1    7.7    3.2    0.5  \n",
       "2    7.9    1.2    0.6  \n",
       "3    7.2    0.7    0.4  \n",
       "4    8.0    0.3    0.3  \n",
       "\n",
       "[5 rows x 41 columns]"
      ]
     },
     "execution_count": 7,
     "metadata": {},
     "output_type": "execute_result"
    }
   ],
   "source": [
    "data_train.head()\n",
    "data_test.head()"
   ]
  },
  {
   "cell_type": "markdown",
   "metadata": {},
   "source": [
    "训练集的样本为5642个，特征字段有42个，测试集的样本有1000个，特征字段有41个。测试集的最后一列血糖是需要预测的，被删掉了"
   ]
  },
  {
   "cell_type": "code",
   "execution_count": 5,
   "metadata": {
    "scrolled": true
   },
   "outputs": [
    {
     "data": {
      "text/plain": [
       "id             False\n",
       "性别             False\n",
       "年龄             False\n",
       "体检日期           False\n",
       "*天门冬氨酸氨基转换酶     True\n",
       "*丙氨酸氨基转换酶       True\n",
       "*碱性磷酸酶          True\n",
       "*r-谷氨酰基转换酶      True\n",
       "*总蛋白            True\n",
       "白蛋白             True\n",
       "*球蛋白            True\n",
       "白球比例            True\n",
       "甘油三酯            True\n",
       "总胆固醇            True\n",
       "高密度脂蛋白胆固醇       True\n",
       "低密度脂蛋白胆固醇       True\n",
       "尿素              True\n",
       "肌酐              True\n",
       "尿酸              True\n",
       "乙肝表面抗原          True\n",
       "乙肝表面抗体          True\n",
       "乙肝e抗原           True\n",
       "乙肝e抗体           True\n",
       "乙肝核心抗体          True\n",
       "白细胞计数           True\n",
       "红细胞计数           True\n",
       "血红蛋白            True\n",
       "红细胞压积           True\n",
       "红细胞平均体积         True\n",
       "红细胞平均血红蛋白量      True\n",
       "红细胞平均血红蛋白浓度     True\n",
       "红细胞体积分布宽度       True\n",
       "血小板计数           True\n",
       "血小板平均体积         True\n",
       "血小板体积分布宽度       True\n",
       "血小板比积           True\n",
       "中性粒细胞%          True\n",
       "淋巴细胞%           True\n",
       "单核细胞%           True\n",
       "嗜酸细胞%           True\n",
       "嗜碱细胞%           True\n",
       "血糖             False\n",
       "dtype: bool"
      ]
     },
     "execution_count": 5,
     "metadata": {},
     "output_type": "execute_result"
    },
    {
     "name": "stdout",
     "output_type": "stream",
     "text": [
      "---------------------------------\n"
     ]
    },
    {
     "data": {
      "text/plain": [
       "id             False\n",
       "性别             False\n",
       "年龄             False\n",
       "体检日期           False\n",
       "*天门冬氨酸氨基转换酶     True\n",
       "*丙氨酸氨基转换酶       True\n",
       "*碱性磷酸酶          True\n",
       "*r-谷氨酰基转换酶      True\n",
       "*总蛋白            True\n",
       "白蛋白             True\n",
       "*球蛋白            True\n",
       "白球比例            True\n",
       "甘油三酯            True\n",
       "总胆固醇            True\n",
       "高密度脂蛋白胆固醇       True\n",
       "低密度脂蛋白胆固醇       True\n",
       "尿素              True\n",
       "肌酐              True\n",
       "尿酸              True\n",
       "乙肝表面抗原          True\n",
       "乙肝表面抗体          True\n",
       "乙肝e抗原           True\n",
       "乙肝e抗体           True\n",
       "乙肝核心抗体          True\n",
       "白细胞计数           True\n",
       "红细胞计数           True\n",
       "血红蛋白            True\n",
       "红细胞压积           True\n",
       "红细胞平均体积         True\n",
       "红细胞平均血红蛋白量      True\n",
       "红细胞平均血红蛋白浓度     True\n",
       "红细胞体积分布宽度       True\n",
       "血小板计数           True\n",
       "血小板平均体积         True\n",
       "血小板体积分布宽度       True\n",
       "血小板比积           True\n",
       "中性粒细胞%          True\n",
       "淋巴细胞%           True\n",
       "单核细胞%           True\n",
       "嗜酸细胞%           True\n",
       "嗜碱细胞%           True\n",
       "dtype: bool"
      ]
     },
     "execution_count": 5,
     "metadata": {},
     "output_type": "execute_result"
    }
   ],
   "source": [
    "# 检查病人的特征数据是否有缺失\n",
    "data_train.isnull().any()\n",
    "print('---------------------------------')\n",
    "data_test.isnull().any()"
   ]
  },
  {
   "cell_type": "markdown",
   "metadata": {},
   "source": [
    "根据上面的结果显示，除了病人的id,性别，年龄，体检日期，目标血糖这几个相关的基本信息没有缺失值，其余字段都会有或多或少的病人在某些字段含有缺失值，下面先统计一下这些字段的缺失值的数量可视化"
   ]
  },
  {
   "cell_type": "code",
   "execution_count": null,
   "metadata": {
    "collapsed": true,
    "scrolled": true
   },
   "outputs": [],
   "source": [
    "data_train.isnull().sum()"
   ]
  },
  {
   "cell_type": "code",
   "execution_count": null,
   "metadata": {
    "collapsed": true,
    "scrolled": true
   },
   "outputs": [],
   "source": [
    "print('训练集各特征字段的数据缺失比例（%）')\n",
    "(data_train.isnull().sum() / data_train.shape[0]) * 100"
   ]
  },
  {
   "cell_type": "code",
   "execution_count": null,
   "metadata": {
    "collapsed": true,
    "scrolled": true
   },
   "outputs": [],
   "source": [
    "print('测试集各特征数据缺失比例（%）')\n",
    "(data_test.isnull().sum()/(data_test.shape[0])) * 100"
   ]
  },
  {
   "cell_type": "code",
   "execution_count": null,
   "metadata": {
    "collapsed": true
   },
   "outputs": [],
   "source": [
    "#data_train['体检日期'] = (pd.to_datetime(data_train['体检日期'],format='%d/%m/%Y') - parse('2017-09-15')).dt.days\n",
    "#data_test['体检日期'] = (pd.to_datetime(data_test['体检日期'],format='%d/%m/%Y') - parse('2017-09-15')).dt.days"
   ]
  },
  {
   "cell_type": "code",
   "execution_count": null,
   "metadata": {
    "collapsed": true,
    "scrolled": true
   },
   "outputs": [],
   "source": [
    "\n",
    "feature_count = pd.Series(data_train.count())     # 将病人特征的未缺失数据统计放在一个Series中\n",
    "total_count = pd.Series(np.tile(data_train.shape[0], len(feature_count)), index = feature_count.index)# total_count中存放的是全部样本数量\n",
    "missing_count = total_count - feature_count     # 每个特征的缺失值数量\n",
    "data_count = pd.DataFrame([feature_count, missing_count]).T      \n",
    "data_count = data_count.rename(columns = {0:'Not Missing', 1: 'Missing'})     # 修改列名称\n",
    "\n",
    "# 下面画出每个字段缺失数据与未缺失数据的条形图，由于在一张图中显示太过拥挤，所以用两张图显示\n",
    "plt.figure(figsize = (12, 10))\n",
    "data_count[0:24].plot(kind = 'barh', stacked = True)\n",
    "plt.legend(loc = 'upper right')\n",
    "plt.show()\n",
    "plt.figure(figsize = (12, 10))\n",
    "data_count[24:].plot(kind = 'barh', stacked = True)\n",
    "plt.legend(loc = 'upper left')\n",
    "plt.show()"
   ]
  },
  {
   "cell_type": "markdown",
   "metadata": {},
   "source": [
    "由上面的结果可以看出，训练集和测试集的所有字段可以分为以下几类：\n",
    "- 缺失值比例极多的字段特征：**乙肝e抗体**，**乙肝e抗原**，**乙肝表面抗体**，**乙肝表面抗原**，**乙肝核心抗体**\n",
    "- 缺失值比例较少的字段特征：**尿酸**，**肌酐**，**尿素**，**低密度脂蛋白胆固醇**，**高密度脂蛋白胆固醇**，**总胆固醇**，**甘油三脂**，**白球比例**，**球蛋白**，**白蛋白**，**总蛋白**，**r-谷氨酰基转换酶**，**碱性磷酸酶**，**丙氨酸氨基转换酶**，**天东门氨酸氨基转换酶**\n",
    "- 缺失比例极少的字段特征：**嗜碱细胞%**，**嗜酸细胞%**，**单核细胞%**，**淋巴细胞%**，**中性粒细胞%**，**血小板比积**，**血小板体积分布宽度**，**血小板平均体积**，**血小板计数**，**红细胞体积分布宽度**，**红细胞平均血红蛋白浓度**，**红细胞平均血红蛋白量**，**红细胞平均体积**，**红细胞压积**，**血红蛋白**，**红细胞计数**，**白细胞计数**\n",
    "- 完全没有缺失数据的字段特征：**体检日期**，**年龄**，**性别**，**id**，**血糖**"
   ]
  },
  {
   "cell_type": "code",
   "execution_count": null,
   "metadata": {
    "collapsed": true,
    "scrolled": true
   },
   "outputs": [],
   "source": [
    "sns.countplot('性别', data = data_train)\n",
    "plt.title('训练集中的男女性别统计')\n",
    "plt.xlabel('性别')\n",
    "plt.ylabel('人数')\n",
    "plt.show()\n",
    "print('-----------------------------------------------------')\n",
    "sns.countplot('性别', data = data_test)\n",
    "plt.title('测试集中的男女性别统计')\n",
    "plt.xlabel('性别')\n",
    "plt.ylabel('人数')\n",
    "plt.show()"
   ]
  },
  {
   "cell_type": "code",
   "execution_count": null,
   "metadata": {
    "collapsed": true
   },
   "outputs": [],
   "source": [
    "unknown_sex = data_train.loc[data_train['性别'] == '??'].index\n",
    "unknown_sex"
   ]
  },
  {
   "cell_type": "markdown",
   "metadata": {},
   "source": [
    "发现虽然性别这一特征并没有缺失值，但是在572行中有一个性别未知的样本，通过原始数据文件，可以发现，该样本周围的样本都是女性，因此，暂且将该未知性别假设为样本输入时产生的错误，将该样本记为女性，为了下面便于数据处理，将样本中的男性标为1，女性标记为0"
   ]
  },
  {
   "cell_type": "code",
   "execution_count": null,
   "metadata": {
    "collapsed": true
   },
   "outputs": [],
   "source": [
    "data_train.loc[572, '性别'] = '女'\n",
    "data_train.loc[data_train['性别']== \"男\", '性别'] = 1\n",
    "data_train.loc[data_train['性别']== '女', '性别'] = 0"
   ]
  },
  {
   "cell_type": "code",
   "execution_count": null,
   "metadata": {
    "collapsed": true
   },
   "outputs": [],
   "source": [
    "data_test.loc[data_test['性别']=='男', '性别'] = 1\n",
    "data_test.loc[data_test['性别']=='女', '性别'] = 0"
   ]
  },
  {
   "cell_type": "code",
   "execution_count": null,
   "metadata": {
    "collapsed": true,
    "scrolled": true
   },
   "outputs": [],
   "source": [
    "sns.countplot('性别', data = data_train)\n",
    "classes = ['女', '男']\n",
    "tick_marks = np.arange(len(classes))\n",
    "plt.title('训练集中的男女性别统计')\n",
    "plt.xlabel('性别')\n",
    "plt.xticks(tick_marks, classes)\n",
    "plt.ylabel('人数')\n",
    "plt.show()\n",
    "print('-----------------------------------------------------')\n",
    "sns.countplot('性别', data = data_test)\n",
    "plt.title('测试集中的男女性别统计')\n",
    "plt.xticks(tick_marks, classes)\n",
    "plt.xlabel('性别')\n",
    "plt.ylabel('人数')\n",
    "plt.show()"
   ]
  },
  {
   "cell_type": "markdown",
   "metadata": {},
   "source": [
    "先看一下样本中血糖值的分布情况吧，看看有没有异常值"
   ]
  },
  {
   "cell_type": "code",
   "execution_count": null,
   "metadata": {
    "collapsed": true,
    "scrolled": true
   },
   "outputs": [],
   "source": [
    "from scipy import stats\n",
    "fig = plt.figure( figsize = (6, 6))\n",
    "sns.distplot(data_train['血糖'], fit = stats.norm)\n",
    "plt.show()\n",
    "res = stats.probplot(data_train['血糖'], plot = plt)"
   ]
  },
  {
   "cell_type": "markdown",
   "metadata": {},
   "source": [
    "注意到训练集中有个样本的血糖值异常地高，血糖值为38.43，该样本的id号为4228,在下面的分析中，将该样本去掉"
   ]
  },
  {
   "cell_type": "code",
   "execution_count": null,
   "metadata": {
    "collapsed": true,
    "scrolled": true
   },
   "outputs": [],
   "source": [
    "data_train.drop(data_train[data_train['id']==4228].index, axis = 0, inplace = True)"
   ]
  },
  {
   "cell_type": "markdown",
   "metadata": {},
   "source": [
    "将血糖值取对数，看下概率分布图是否会有所改善"
   ]
  },
  {
   "cell_type": "code",
   "execution_count": null,
   "metadata": {
    "collapsed": true,
    "scrolled": true
   },
   "outputs": [],
   "source": [
    "from scipy import stats\n",
    "fig = plt.figure( figsize = (6, 6))\n",
    "sns.distplot(np.log(data_train['血糖']), fit = stats.norm)\n",
    "plt.show()\n",
    "res = stats.probplot(np.log(data_train['血糖']), plot = plt)"
   ]
  },
  {
   "cell_type": "markdown",
   "metadata": {},
   "source": [
    "将血糖值取对数之后，概率分布图更加弯曲了（不符合正态分布），所以接下来不对血糖值进行对数变换"
   ]
  },
  {
   "cell_type": "code",
   "execution_count": null,
   "metadata": {
    "collapsed": true
   },
   "outputs": [],
   "source": [
    "data_train.columns"
   ]
  },
  {
   "cell_type": "markdown",
   "metadata": {},
   "source": [
    "由于乙肝e抗体，乙肝e抗原，乙肝表面抗体，乙肝表面抗原，乙肝核心抗体这五个特征字段缺失值比例在70%以上，对模型的分析和预测没有什么帮助，所以去掉这几个特征字段；还有id特征字段只是样本的编号，在接下来的分析中不会用到此字段，因此也将其删除。"
   ]
  },
  {
   "cell_type": "code",
   "execution_count": null,
   "metadata": {
    "collapsed": true
   },
   "outputs": [],
   "source": [
    "#data_train = data_train.drop(columns = 'id')\n",
    "#data_test = data_test.drop(columns = 'id')\n",
    "data_train = data_train.drop(columns = ['乙肝e抗原','乙肝e抗体','乙肝表面抗原','乙肝表面抗体','乙肝核心抗体','id', '体检日期'])\n",
    "data_test = data_test.drop(columns = ['乙肝e抗原','乙肝e抗体','乙肝表面抗原','乙肝表面抗体','乙肝核心抗体','id', '体检日期'])\n",
    "data_train.columns   # 删除这几列之后的训练集特种字段"
   ]
  },
  {
   "cell_type": "code",
   "execution_count": null,
   "metadata": {
    "collapsed": true,
    "scrolled": true
   },
   "outputs": [],
   "source": [
    "# 对比一下男性与女性血糖值的直方图分布\n",
    "male = data_train[data_train['性别'] == 1]\n",
    "female = data_train[data_train['性别'] == 0]\n",
    "fig, axes = plt.subplots(1, 2, figsize = (12, 6))\n",
    "male['血糖'].hist(bins = 70, ax = axes[0])\n",
    "female['血糖'].hist(bins = 70, ax = axes[1])\n",
    "axes[0].set_title('男性血糖值直方图')\n",
    "axes[1].set_title('女性血糖值直方图')"
   ]
  },
  {
   "cell_type": "markdown",
   "metadata": {},
   "source": [
    "样本中的男性血糖较高的人数比女性多"
   ]
  },
  {
   "cell_type": "code",
   "execution_count": null,
   "metadata": {
    "collapsed": true,
    "scrolled": true
   },
   "outputs": [],
   "source": [
    "print('各个特征与血糖的线性相关系数')\n",
    "print('------------------------------')\n",
    "data_train.corrwith(data_train['血糖'])   # 看看各个单变量与血糖之间的线性关系\n",
    "print('------------------------------')\n",
    "datacorr = data_train.corr()      # 计算各个变量之间的相关系数矩阵\n",
    "print('\\n\\n************************各个特征之间的相关系数矩阵*********************')\n",
    "fig = plt.figure(figsize = (18,18))\n",
    "sns.heatmap(datacorr, annot = True, fmt = \".2f\")    # 用heatmap将相关系数矩阵显示出来\n",
    "plt.show()"
   ]
  },
  {
   "cell_type": "markdown",
   "metadata": {},
   "source": [
    "没有哪个特征与血糖之间是线性相关性较高的，中性粒细胞%和淋巴细胞%、*球蛋白和白球比例之间具有高度的负相关性"
   ]
  },
  {
   "cell_type": "markdown",
   "metadata": {},
   "source": [
    "根据上面的分析，将缺失值超过50%的特征字段进行了删除，下面对剩余缺失字段进行缺失值填补，剩余的缺失字段中，可以分为两类：一类是缺失值比例极少（少于1%）的特征字段，另一类是缺失比例在（20%左右）的特征字段。\n",
    "- 用[Q1, Q3]之间的随机数填充  \n",
    "注：Q1是四分之一位数，Q3是四分之三位数"
   ]
  },
  {
   "cell_type": "code",
   "execution_count": null,
   "metadata": {
    "collapsed": true
   },
   "outputs": [],
   "source": [
    "# 有缺失值的特征字段名称\n",
    "missing_features = data_train.iloc[:, 2:-1].columns\n",
    "missing_features\n",
    "len(missing_features)"
   ]
  },
  {
   "cell_type": "markdown",
   "metadata": {},
   "source": [
    "### 训练集缺失值处理"
   ]
  },
  {
   "cell_type": "code",
   "execution_count": null,
   "metadata": {
    "collapsed": true
   },
   "outputs": [],
   "source": [
    "fig, axs = plt.subplots(figsize = (12, 32 * 6), nrows = 32, ncols = 2)\n",
    "train_info = data_train.describe()     # 用于生成训练集的中值，均值，分位数等信息\n",
    "for row, cn in  enumerate(missing_features):\n",
    "    train_cn_Q1 = train_info.loc['25%', cn]     # 训练集特征字段cn的Q1分位数（插值前）\n",
    "    train_cn_Q3 = train_info.loc['75%', cn]     # 训练集特征字段cn的Q3分位数（插值前）\n",
    "    \n",
    "    train_cn_IQR = train_cn_Q3 - train_cn_Q1\n",
    "    train_cn_maxQ = train_cn_Q3 + (1.5 * train_cn_IQR)\n",
    "    train_cn_minQ = train_cn_Q1 - (1.5 * train_cn_IQR)\n",
    "    \n",
    "    count_nan_cn_train = data_train[cn].isnull().sum()   # 统计训练集特征字段cn的缺失值数量\n",
    "    # 生成与特征字段在区间 [Q1, Q3]的随机数，用于填补缺失值\n",
    "    rand_1 = np.random.randint(low = train_cn_minQ, high = train_cn_maxQ + 1, size = count_nan_cn_train)    \n",
    "    rand_d = np.random.rand(count_nan_cn_train)\n",
    "    rand_im = rand_1 + rand_d\n",
    "    sns.distplot(data_train[cn].dropna(), ax = axs[row, 0])\n",
    "    \n",
    "    data_train.loc[np.isnan(data_train[cn]), cn] = rand_im    # 在缺失值的位置填充上生成的随机数\n",
    "    \n",
    "    sns.distplot(data_train[cn], ax = axs[row, 1])\n",
    "    axs[row, 0].set_title(str(cn) + '插值前的直方图')\n",
    "    axs[row, 0].set_xlabel('')\n",
    "    axs[row, 1].set_title(str(cn) + '插值后的直方图')\n",
    "    axs[row, 1].set_xlabel('')\n",
    "plt.show()"
   ]
  },
  {
   "cell_type": "code",
   "execution_count": null,
   "metadata": {
    "collapsed": true,
    "scrolled": true
   },
   "outputs": [],
   "source": [
    "data_train.isnull().any()"
   ]
  },
  {
   "cell_type": "markdown",
   "metadata": {},
   "source": [
    "### 测试集缺失值处理"
   ]
  },
  {
   "cell_type": "code",
   "execution_count": null,
   "metadata": {
    "collapsed": true,
    "scrolled": true
   },
   "outputs": [],
   "source": [
    "fig, axs = plt.subplots(figsize = (12, 32*6), nrows = 32, ncols = 2)\n",
    "test_info = data_test.describe()     # 用于生成训练集的中值，均值，分位数等信息\n",
    "for row, cn in  enumerate(missing_features):\n",
    "    test_cn_Q1 = test_info.loc['25%', cn]     # 训练集特征字段cn的Q1分位数（插值前）\n",
    "    test_cn_Q3 = test_info.loc['75%', cn]     # 训练集特征字段cn的Q3分位数（插值前）\n",
    "    \n",
    "    test_cn_IQR = test_cn_Q3 - test_cn_Q1\n",
    "    test_cn_maxQ = test_cn_Q3 + (1.5 * test_cn_IQR)\n",
    "    test_cn_minQ = test_cn_Q1 - (1.5 * test_cn_IQR)\n",
    "    \n",
    "    count_nan_cn_test = data_test[cn].isnull().sum()   # 统计训练集特征字段cn的缺失值数量\n",
    "    # 生成与特征字段在区间 [Q1, Q3]的随机数，用于填补缺失值\n",
    "    rand_1 = np.random.randint(low = test_cn_minQ, high = test_cn_maxQ + 1, size = count_nan_cn_test)    \n",
    "    rand_d = np.random.rand(count_nan_cn_test)\n",
    "    rand_im = rand_1 + rand_d\n",
    "    sns.distplot(data_test[cn].dropna(), ax = axs[row, 0])\n",
    "    \n",
    "    data_test.loc[np.isnan(data_test[cn]), cn] = rand_im    # 在缺失值的位置填充上生成的随机数\n",
    "    \n",
    "    sns.distplot(data_test[cn], ax = axs[row, 1])\n",
    "    axs[row, 0].set_title(str(cn) + '插值前的直方图')\n",
    "    axs[row, 0].set_xlabel('')\n",
    "    axs[row, 1].set_title(str(cn) + '插值后的直方图')\n",
    "    axs[row, 1].set_xlabel('')\n",
    "plt.show()"
   ]
  },
  {
   "cell_type": "code",
   "execution_count": null,
   "metadata": {
    "collapsed": true,
    "scrolled": true
   },
   "outputs": [],
   "source": [
    "data_test.isnull().any()"
   ]
  },
  {
   "cell_type": "code",
   "execution_count": null,
   "metadata": {
    "collapsed": true
   },
   "outputs": [],
   "source": [
    "data_train.to_csv('data_train_A.csv', encoding = 'gbk')\n",
    "data_test.to_csv('data_test_A.csv', encoding = 'gbk')"
   ]
  },
  {
   "cell_type": "markdown",
   "metadata": {},
   "source": [
    "### 异常值处理  \n",
    "注：在处理异常值之后，发现会稍微改变数据原来的分布，根据后面的测试结果来看，处理过异常值之后再用xgboost模型训练，结果并不会有提升（当然，这都是后话了）"
   ]
  },
  {
   "cell_type": "code",
   "execution_count": null,
   "metadata": {
    "collapsed": true
   },
   "outputs": [],
   "source": [
    "features = data_test.columns  # 特征字段名称\n",
    "features "
   ]
  },
  {
   "cell_type": "code",
   "execution_count": null,
   "metadata": {
    "collapsed": true
   },
   "outputs": [],
   "source": [
    "for i in features:\n",
    "    fig, ax = plt.subplots(figsize = (6, 4))\n",
    "    sns.boxplot(data = data_train[i])\n",
    "    ax.set_title('箱形图：' + str(i))\n",
    "    plt.show()"
   ]
  },
  {
   "cell_type": "code",
   "execution_count": null,
   "metadata": {
    "collapsed": true
   },
   "outputs": [],
   "source": [
    "for i in features:\n",
    "    fig, ax = plt.subplots(figsize = (6, 4))\n",
    "    sns.boxplot(data = data_test[i])\n",
    "    ax.set_title('箱形图：' + str(i))\n",
    "    plt.show()"
   ]
  },
  {
   "cell_type": "markdown",
   "metadata": {},
   "source": [
    "可以看出，训练集除了性别没有异常值之外，其余特征都有异常值，测试集中，性别和年龄没有异常值，其余特征也是有异常值，下面对异常值进行处理，异常值处理按照如下规则：\n",
    "- 当一个特征的值大于 Q3 + 1.5IQR 时，异常值用[Q3, Q3 + 1.5IQR]区间的随机数代替\n",
    "- 当一个特征值小于 Q1 - 1.5IQR 时，异常值用[Q1 - 1.5IQR, Q1]区间的随机数代替"
   ]
  },
  {
   "cell_type": "code",
   "execution_count": null,
   "metadata": {
    "collapsed": true
   },
   "outputs": [],
   "source": [
    "train_info = data_train.describe()     # 用于生成训练集的中值，均值，分位数等信息\n",
    "train_info2 = train_info"
   ]
  },
  {
   "cell_type": "code",
   "execution_count": null,
   "metadata": {
    "collapsed": true
   },
   "outputs": [],
   "source": [
    "for cn in features:\n",
    "    train_cn_Q1 = train_info.loc['25%', cn]     # 训练集特征字段cn的Q1分位数（处理异常值前）\n",
    "    train_cn_Q3 = train_info.loc['75%', cn]     # 训练集特征字段cn的Q3分位数（处理异常值前）\n",
    "    train_cn_IQR = train_cn_Q3 - train_cn_Q1\n",
    "    train_cn_maxQ = train_cn_Q3 + (1.5 * train_cn_IQR)\n",
    "\n",
    "    Largeoutlier_cn_count = data_train.loc[data_train[cn] > train_cn_maxQ ,cn].count() # 训练集特征字段cn超过Q3 + 1.5IQR上界的异常值个数\n",
    "    Largeoutlier_cn_index = data_train.loc[data_train[cn] > train_cn_maxQ, cn].index\n",
    "    # 生成与特征字段在区间 [Q3, Q3 + 1.5IQR]的随机数，用于填补缺失值\n",
    "    if (train_cn_maxQ - train_cn_Q3) > 1:\n",
    "        rand_1max = np.random.randint(low = train_cn_Q3, high = train_cn_maxQ, size = Largeoutlier_cn_count)    \n",
    "        rand_dmax = np.random.rand(Largeoutlier_cn_count)    # 生成[0, 1)之间的小数\n",
    "        rand_imax = rand_1max + rand_dmax    \n",
    "        data_train.loc[Largeoutlier_cn_index, cn] = rand_imax    # 在异常值的位置填充上生成的随机数\n",
    "    else:    # 有些特征的值范围非常小，小于1，这样的特征异常值，令其等于train_cn_maxQ\n",
    "        data_train.loc[Largeoutlier_cn_index, cn] = train_cn_maxQ  \n",
    "\n",
    "for cn in features:\n",
    "    train_cn_Q1 = train_info2.loc['25%', cn]     # 训练集特征字段cn的Q1分位数（处理异常值前）\n",
    "    train_cn_Q3 = train_info2.loc['75%', cn]     # 训练集特征字段cn的Q3分位数（处理异常值前）\n",
    "    train_cn_IQR = train_cn_Q3 - train_cn_Q1\n",
    "    train_cn_minQ = train_cn_Q1 - (1.5 * train_cn_IQR)    \n",
    "    Smalloutlier_cn_count = data_train.loc[data_train[cn] < train_cn_minQ ,cn].count() # 训练集特征字段cn超过Q1 - 1.5IQR下界的异常值个数\n",
    "    Smalloutlier_cn_index = data_train.loc[data_train[cn] < train_cn_minQ, cn].index\n",
    "    # 生成与特征字段在区间 [Q1 - 1.5IQR, Q1]的随机数，用于填补缺失值\n",
    "    if (train_cn_Q1 - train_cn_minQ) > 1:\n",
    "        rand_1min = np.random.randint(low = train_cn_minQ, high = train_cn_Q1+1, size = Smalloutlier_cn_count)    \n",
    "        rand_dmin = np.random.rand(Smalloutlier_cn_count)    # 生成[0, 1)之间的小数\n",
    "        rand_imin = rand_1min + rand_dmin    \n",
    "        data_train.loc[Smalloutlier_cn_index, cn] = rand_imin    # 在异常值的位置填充上生成的随机数\n",
    "    else:\n",
    "        data_train.loc[Smalloutlier_cn_index, cn]= train_cn_minQ                 #np.tile(train_cn_minQ, Smalloutlier_cn_count)\n"
   ]
  },
  {
   "cell_type": "code",
   "execution_count": null,
   "metadata": {
    "collapsed": true
   },
   "outputs": [],
   "source": [
    "for i in features:\n",
    "    fig, ax = plt.subplots(figsize = (6, 4))\n",
    "    sns.boxplot(data = data_train[i])\n",
    "    ax.set_title('箱形图：' + str(i))\n",
    "    plt.show()"
   ]
  },
  {
   "cell_type": "code",
   "execution_count": null,
   "metadata": {
    "collapsed": true
   },
   "outputs": [],
   "source": [
    "test_info = data_test.describe()     # 用于生成训练集的中值，均值，分位数等信息\n",
    "test_info2 = test_info"
   ]
  },
  {
   "cell_type": "code",
   "execution_count": null,
   "metadata": {
    "collapsed": true
   },
   "outputs": [],
   "source": [
    "for cn in features:\n",
    "    test_cn_Q1 = test_info.loc['25%', cn]     # 训练集特征字段cn的Q1分位数（处理异常值前）\n",
    "    test_cn_Q3 = test_info.loc['75%', cn]     # 训练集特征字段cn的Q3分位数（处理异常值前）\n",
    "    test_cn_IQR = test_cn_Q3 - test_cn_Q1\n",
    "    test_cn_maxQ = test_cn_Q3 + (1.5 * test_cn_IQR)\n",
    "\n",
    "    Largeoutlier_cn_count = data_test.loc[data_test[cn] > test_cn_maxQ ,cn].count() # 训练集特征字段cn超过Q3 + 1.5IQR上界的异常值个数\n",
    "    Largeoutlier_cn_index = data_test.loc[data_test[cn] > test_cn_maxQ, cn].index\n",
    "    # 生成与特征字段在区间 [Q3, Q3 + 1.5IQR]的随机数，用于填补缺失值\n",
    "    if (test_cn_maxQ - test_cn_Q3) > 1:\n",
    "        rand_1max = np.random.randint(low = test_cn_Q3, high = test_cn_maxQ, size = Largeoutlier_cn_count)    \n",
    "        rand_dmax = np.random.rand(Largeoutlier_cn_count)    # 生成[0, 1)之间的小数\n",
    "        rand_imax = rand_1max + rand_dmax    \n",
    "        data_test.loc[Largeoutlier_cn_index, cn] = rand_imax    # 在异常值的位置填充上生成的随机数\n",
    "    else:    # 有些特征的值范围非常小，小于1，这样的特征异常值，令其等于test_cn_maxQ\n",
    "        data_test.loc[Largeoutlier_cn_index, cn] = test_cn_maxQ  \n",
    "\n",
    "for cn in features:\n",
    "    test_cn_Q1 = test_info2.loc['25%', cn]     # 训练集特征字段cn的Q1分位数（处理异常值前）\n",
    "    test_cn_Q3 = test_info2.loc['75%', cn]     # 训练集特征字段cn的Q3分位数（处理异常值前）\n",
    "    test_cn_IQR = test_cn_Q3 - test_cn_Q1\n",
    "    test_cn_minQ = test_cn_Q1 - (1.5 * test_cn_IQR)    \n",
    "    Smalloutlier_cn_count = data_test.loc[data_test[cn] < test_cn_minQ ,cn].count() # 训练集特征字段cn超过Q1 - 1.5IQR下界的异常值个数\n",
    "    Smalloutlier_cn_index = data_test.loc[data_test[cn] < test_cn_minQ, cn].index\n",
    "    # 生成与特征字段在区间 [Q1 - 1.5IQR, Q1]的随机数，用于填补缺失值\n",
    "    if (test_cn_Q1 - test_cn_minQ) > 1:\n",
    "        rand_1min = np.random.randint(low = test_cn_minQ, high = test_cn_Q1+1, size = Smalloutlier_cn_count)    \n",
    "        rand_dmin = np.random.rand(Smalloutlier_cn_count)    # 生成[0, 1)之间的小数\n",
    "        rand_imin = rand_1min + rand_dmin    \n",
    "        data_test.loc[Smalloutlier_cn_index, cn] = rand_imin    # 在异常值的位置填充上生成的随机数\n",
    "    else:\n",
    "        data_test.loc[Smalloutlier_cn_index, cn]= test_cn_minQ              "
   ]
  },
  {
   "cell_type": "code",
   "execution_count": null,
   "metadata": {
    "collapsed": true
   },
   "outputs": [],
   "source": [
    "for i in features:\n",
    "    fig, ax = plt.subplots(figsize = (6, 4))\n",
    "    sns.boxplot(data = data_test[i])\n",
    "    ax.set_title('箱形图：' + str(i))\n",
    "    plt.show()"
   ]
  },
  {
   "cell_type": "code",
   "execution_count": null,
   "metadata": {
    "collapsed": true
   },
   "outputs": [],
   "source": [
    "data_train.shape\n",
    "data_test.shape"
   ]
  },
  {
   "cell_type": "markdown",
   "metadata": {},
   "source": [
    "将缺失值处理后的样本集保存到文件"
   ]
  },
  {
   "cell_type": "code",
   "execution_count": null,
   "metadata": {
    "collapsed": true
   },
   "outputs": [],
   "source": [
    "# 将插值后的数据保存到文件中\n",
    "data_train.to_csv('data_train_All.csv', encoding = 'gbk')\n",
    "data_test.to_csv('data_test_All.csv', encoding = 'gbk')"
   ]
  },
  {
   "cell_type": "markdown",
   "metadata": {
    "collapsed": true
   },
   "source": [
    "**现在看一下处理完异常值之后的直方图，但是很多特征的直方图分布是近似服从对数正态分布的，如果对其取对数，则特征会服从正态分布，下面分析一下各个特征**  \n",
    "注：根据后面的结果测试发现，对特征取对数并不能提高测试效果"
   ]
  },
  {
   "cell_type": "code",
   "execution_count": null,
   "metadata": {
    "collapsed": true,
    "scrolled": true
   },
   "outputs": [],
   "source": [
    "from scipy import stats\n",
    "for i in missing_features:\n",
    "    fig = plt.figure( figsize = (6, 4))\n",
    "    sns.distplot(data_train[i], fit = stats.norm)\n",
    "    plt.show()\n",
    "    res = stats.probplot(data_train[i], plot = plt)\n",
    "    print(i)"
   ]
  },
  {
   "cell_type": "markdown",
   "metadata": {},
   "source": [
    "额，好像处理过异常值之后把原来数据的分布也改变了，，，，"
   ]
  },
  {
   "cell_type": "code",
   "execution_count": null,
   "metadata": {
    "collapsed": true
   },
   "outputs": [],
   "source": [
    "from scipy import stats\n",
    "for i in missing_features:\n",
    "    fig = plt.figure( figsize = (6, 4))\n",
    "    sns.distplot(np.log1p(data_train[i]), fit = stats.norm)\n",
    "    plt.show()\n",
    "    res = stats.probplot(np.log1p(data_train[i]), plot = plt)\n",
    "    print(i)"
   ]
  },
  {
   "cell_type": "markdown",
   "metadata": {
    "collapsed": true
   },
   "source": [
    "**经过对数对数化之后，比对数化之前更接近高斯分布的特征有：**  \n",
    "\\*天门冬氨酸氨基转换酶，\\*丙氨酸氨基转换酶, \\*碱性磷酸酶，\\*r-谷氨酰基转换酶，\\*球蛋白，甘油三酯，总胆固醇，高密度脂蛋白胆固醇，低密度脂蛋白胆固醇，尿素，肌酐，尿酸，白细胞计数，血小板体积分布宽度， 嗜酸细胞%，嗜碱细胞%  \n",
    "**不进行对数变换，比对数变换后更接近高斯分布的特征：**  \n",
    "\\*总蛋白，白蛋白，白球比例，红细胞计数，血红蛋白，红细胞压积，红细胞平均体积，红细胞平均血红蛋白量，红细胞平均血红蛋白浓度，红细胞体积分布宽度，血小板计数，血小板平均体积，血小板比积，中性粒细胞%， 淋巴细胞%， 单核细胞%\n"
   ]
  },
  {
   "cell_type": "code",
   "execution_count": null,
   "metadata": {
    "collapsed": true,
    "scrolled": true
   },
   "outputs": [],
   "source": [
    "from scipy import stats\n",
    "for i in missing_features:\n",
    "    fig = plt.figure( figsize = (6, 4))\n",
    "    sns.distplot(data_test[i], fit = stats.norm)\n",
    "    plt.show()\n",
    "    res = stats.probplot(data_test[i], plot = plt)\n",
    "    print(i)"
   ]
  },
  {
   "cell_type": "code",
   "execution_count": null,
   "metadata": {
    "collapsed": true,
    "scrolled": true
   },
   "outputs": [],
   "source": [
    "from scipy import stats\n",
    "for i in missing_features:\n",
    "    fig = plt.figure( figsize = (6, 4))\n",
    "    sns.distplot(np.log1p(data_test[i]), fit = stats.norm)\n",
    "    plt.show()\n",
    "    res = stats.probplot(np.log1p(data_test[i]), plot = plt)\n",
    "    print(i)"
   ]
  },
  {
   "cell_type": "markdown",
   "metadata": {},
   "source": [
    "在测试集中，特征字段的分布和训练集中的特征字段一样，所以对训练集与测试集中相同的特征字段进行对数化或者不进行对数化，在下面进行分析之前，先对上面对数化之后更加近似正态分布的特征进行对数化"
   ]
  },
  {
   "cell_type": "code",
   "execution_count": null,
   "metadata": {
    "collapsed": true
   },
   "outputs": [],
   "source": [
    "log_features = ['*天门冬氨酸氨基转换酶', '*丙氨酸氨基转换酶', '*碱性磷酸酶', '*r-谷氨酰基转换酶', '*球蛋白',\n",
    "                '甘油三酯', '总胆固醇',  '高密度脂蛋白胆固醇', '低密度脂蛋白胆固醇', '尿素', '肌酐', '尿酸',\n",
    "                '白细胞计数', '血小板体积分布宽度', '嗜酸细胞%', '嗜碱细胞%']\n",
    "data_train[log_features] = np.log1p(data_train[log_features])\n",
    "data_test[log_features] = np.log1p(data_test[log_features])"
   ]
  },
  {
   "cell_type": "markdown",
   "metadata": {},
   "source": [
    "下面这个函数的功能是划分数据集，对数据进行预处理"
   ]
  },
  {
   "cell_type": "code",
   "execution_count": null,
   "metadata": {
    "collapsed": true
   },
   "outputs": [],
   "source": [
    "# 将原来的训练集分为训练集和交叉验证集\n",
    "from sklearn.preprocessing import PolynomialFeatures\n",
    "def train_seperate_PFS(train, test, size = 0.2, scale = 'NoScale', poly_features = False):\n",
    "    \"\"\"\n",
    "    参数：\n",
    "    size是划分训练集和验证集的比例\n",
    "    scale是归一化方式\n",
    "    返回：\n",
    "    x_train是从所有训练集中划分得到的训练集， label_train是其标签\n",
    "    x_dev是从所有训练集中划分得到的验证集， label_dev是其标签\n",
    "    X_train是全部的训练集， Y_train是其标签\n",
    "    Test是全部的训练集\n",
    "    \"\"\"        \n",
    "    features_train = train.loc[:, train.columns != '血糖']     # 全部的训练集特征\n",
    "    labels = train.loc[:, train.columns == '血糖']             # 全部的训练集标签\n",
    "    Test = test               # 全部的测试集\n",
    "    if poly_features == True:\n",
    "        poly = PolynomialFeatures(2, interaction_only = True)     # 先生成多项式特征，然后决定是否进行归一化       \n",
    "        features_train = poly.fit_transform(features_train)\n",
    "        Test = poly.fit_transform(Test)\n",
    "\n",
    "    if scale == 'Standard':    # 对数据进行均值归一化\n",
    "        scaler = StandardScaler().fit(features_train)\n",
    "        features_train = scaler.transform(features_train)\n",
    "        Test = scaler.transform(Test)       \n",
    "    if scale == 'Robust':     # 对数据进行robust_scale\n",
    "        robust_scaler = RobustScaler().fit(features_train)\n",
    "        features_train = robust_scaler.transform(features_train)\n",
    "        Test =  robust_scaler.transform(Test)\n",
    "    if scale == 'NoScale':        # 不进行归一化\n",
    "        features_train = features_train\n",
    "        Test = Test\n",
    "        \n",
    "\n",
    "    # 将原来训练集中的20%的样本分为交叉验证集\n",
    "    state = np.random.seed(123)\n",
    "    x_train, x_dev, label_train, label_dev = train_test_split(features_train, labels, test_size = size, random_state = state) \n",
    "        \n",
    "    print('训练集的样本个数是：' + str(x_train.shape[0]))\n",
    "    print('训练集的形状是：' + str(x_train.shape))\n",
    "    print('交叉验证集的样本个数是：' + str(x_dev.shape[0]))\n",
    "    print('所有训练集的样本个数是：' + str(features_train.shape[0]))\n",
    "    print('测试集的样本个数是：' + str(Test.shape[0]))\n",
    "    return x_train, x_dev, label_train, label_dev, features_train, labels, Test"
   ]
  },
  {
   "cell_type": "code",
   "execution_count": null,
   "metadata": {
    "collapsed": true
   },
   "outputs": [],
   "source": [
    "x_train, x_dev, label_train, label_dev, X_train, Y_train, X_test = train_seperate_PFS(data_train,\n",
    "                                                                                    data_test,\n",
    "                                                                                    size = 0.2,\n",
    "                                                                                    scale = 'NoScale',\n",
    "                                                                                    poly_features = False)    # 将训练集样本划分为训练集和交叉验证集"
   ]
  },
  {
   "cell_type": "markdown",
   "metadata": {},
   "source": [
    "### XGBoost"
   ]
  },
  {
   "cell_type": "code",
   "execution_count": null,
   "metadata": {
    "collapsed": true
   },
   "outputs": [],
   "source": [
    "import xgboost as xgb\n",
    "from sklearn.preprocessing import RobustScaler\n",
    "from sklearn.preprocessing import StandardScaler\n",
    "from sklearn.preprocessing import PolynomialFeatures"
   ]
  },
  {
   "cell_type": "code",
   "execution_count": null,
   "metadata": {
    "collapsed": true
   },
   "outputs": [],
   "source": [
    "Y_test = pd.read_csv('d_answer_a_20180128.csv', header = None)\n",
    "Y_test.shape"
   ]
  },
  {
   "cell_type": "code",
   "execution_count": null,
   "metadata": {
    "collapsed": true,
    "scrolled": true
   },
   "outputs": [],
   "source": [
    "xgb_model = xgb.XGBRegressor(n_estimators = 1000, \n",
    "                             max_depth = 6,\n",
    "                             learning_rate = 0.01,\n",
    "                             gamma = 40,\n",
    "                             subsample = 0.8,\n",
    "                             min_child_weight = 1,\n",
    "                             colsample_bytree = 0.7)\n",
    "xgb_model.fit(X_train, Y_train.values.ravel())\n",
    "y_train_pred = xgb_model.predict(X_train)\n",
    "y_dev_pred = xgb_model.predict(X_test)\n",
    "loss1 = mean_squared_error(y_train_pred, Y_train) * 0.5\n",
    "loss1\n",
    "loss2 = mean_squared_error(y_dev_pred, Y_test) * 0.5\n",
    "loss2"
   ]
  },
  {
   "cell_type": "code",
   "execution_count": null,
   "metadata": {
    "collapsed": true
   },
   "outputs": [],
   "source": [
    "xr_train, xr_dev, labelr_train, labelr_dev, Xr_train, Yr_train, Xr_test = train_seperate_PFS(data_train,\n",
    "                                                                                    data_test,\n",
    "                                                                                    size = 0.2,\n",
    "                                                                                    scale = 'NoScale',\n",
    "                                                                                    poly_features = False)    # 将训练集样本划分为训练集和交叉验证集"
   ]
  },
  {
   "cell_type": "code",
   "execution_count": null,
   "metadata": {
    "collapsed": true,
    "scrolled": true
   },
   "outputs": [],
   "source": [
    "xgb_model = xgb.XGBRegressor(n_estimators = 1000, \n",
    "                             max_depth = 6,\n",
    "                             learning_rate = 0.05,\n",
    "                             gamma = 40,\n",
    "                             subsample = 0.8,\n",
    "                             min_child_weight = 1,\n",
    "                             colsample_bytree = 0.7)\n",
    "xgb_model.fit(Xr_train, Yr_train.values.ravel())\n",
    "y_train_pred = xgb_model.predict(Xr_train)\n",
    "y_dev_pred = xgb_model.predict(Xr_test)\n",
    "loss1 = mean_squared_error(y_train_pred, Yr_train) * 0.5\n",
    "loss1\n",
    "loss2 = mean_squared_error(y_dev_pred, Y_test) * 0.5\n",
    "loss2"
   ]
  },
  {
   "cell_type": "markdown",
   "metadata": {},
   "source": [
    "将训练集中的部分特征取对数后，生成平方多项式的效果会好些，但是效果不如原始数据  \n",
    "原始数据中的异常值处理之后，效果稍微比没处理的时候稍微差一点"
   ]
  },
  {
   "cell_type": "markdown",
   "metadata": {},
   "source": [
    "下面试一下5折交叉验证"
   ]
  },
  {
   "cell_type": "code",
   "execution_count": null,
   "metadata": {
    "collapsed": true
   },
   "outputs": [],
   "source": [
    "from sklearn.model_selection import KFold"
   ]
  },
  {
   "cell_type": "code",
   "execution_count": null,
   "metadata": {
    "collapsed": true
   },
   "outputs": [],
   "source": [
    "kfold = KFold(n_splits = 5, shuffle = True, random_state = np.random.seed(123))   # 5折交叉验证\n",
    "Xr_train = np.array(Xr_train)\n",
    "Yr_train = np.array(Yr_train)\n",
    "\n",
    "for k, (train_index, test_index) in enumerate(kfold.split(Xr_train, Yr_train)):\n",
    "    xgb_model = xgb.XGBRegressor(n_estimators = 1000, \n",
    "                             max_depth = 6,\n",
    "                             learning_rate = 0.05,\n",
    "                             gamma = 40,\n",
    "                             subsample = 0.8,\n",
    "                             min_child_weight = 1,\n",
    "                             colsample_bytree = 0.7)\n",
    "    \n",
    "    print('第 {} 次训练.....'.format(k))\n",
    "    \n",
    "    xgb_model.fit(Xr_train[train_index], Yr_train[train_index])\n",
    "    y_tr_pred = xgb_model.predict(Xr_train[train_index])\n",
    "    y_de_pred = xgb_model.predict(Xr_train[test_index])\n",
    "    loss1 = mean_squared_error(y_tr_pred, Yr_train[train_index]) * 0.5\n",
    "    print(\"训练集误差：\" + str(loss1))\n",
    "    loss2 = mean_squared_error(y_de_pred, Yr_train[test_index]) * 0.5\n",
    "    print(\"验证集误差：\" + str(loss2))"
   ]
  },
  {
   "cell_type": "code",
   "execution_count": null,
   "metadata": {
    "collapsed": true
   },
   "outputs": [],
   "source": []
  }
 ],
 "metadata": {
  "kernelspec": {
   "display_name": "Python 3",
   "language": "python",
   "name": "python3"
  },
  "language_info": {
   "codemirror_mode": {
    "name": "ipython",
    "version": 3
   },
   "file_extension": ".py",
   "mimetype": "text/x-python",
   "name": "python",
   "nbconvert_exporter": "python",
   "pygments_lexer": "ipython3",
   "version": "3.6.2"
  }
 },
 "nbformat": 4,
 "nbformat_minor": 2
}
